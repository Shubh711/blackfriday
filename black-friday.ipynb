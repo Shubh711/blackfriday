{
 "cells": [
  {
   "cell_type": "markdown",
   "id": "cc341131",
   "metadata": {
    "papermill": {
     "duration": 0.021121,
     "end_time": "2022-06-22T11:14:29.200199",
     "exception": false,
     "start_time": "2022-06-22T11:14:29.179078",
     "status": "completed"
    },
    "tags": []
   },
   "source": [
    "## Black friday data set EDA and Feature Engineering"
   ]
  },
  {
   "cell_type": "code",
   "execution_count": 1,
   "id": "e96813ed",
   "metadata": {
    "execution": {
     "iopub.execute_input": "2022-06-22T11:14:29.240468Z",
     "iopub.status.busy": "2022-06-22T11:14:29.239844Z",
     "iopub.status.idle": "2022-06-22T11:14:30.633139Z",
     "shell.execute_reply": "2022-06-22T11:14:30.632079Z"
    },
    "papermill": {
     "duration": 1.416167,
     "end_time": "2022-06-22T11:14:30.635774",
     "exception": false,
     "start_time": "2022-06-22T11:14:29.219607",
     "status": "completed"
    },
    "tags": []
   },
   "outputs": [],
   "source": [
    "import numpy as np\n",
    "import pandas as pd\n",
    "import matplotlib.pyplot as plt\n",
    "import seaborn as sns\n",
    "import sklearn"
   ]
  },
  {
   "cell_type": "markdown",
   "id": "b76b181b",
   "metadata": {
    "papermill": {
     "duration": 0.018329,
     "end_time": "2022-06-22T11:14:30.675095",
     "exception": false,
     "start_time": "2022-06-22T11:14:30.656766",
     "status": "completed"
    },
    "tags": []
   },
   "source": [
    "## PROBLEM  STATEMENT\n",
    "\n",
    "A retail company “ABC Private Limited” wants to understand the customer purchase behaviour (specifically, purchase amount) against various products of different categories. They have shared purchase summary of various customers for selected high volume products from last month. The data set also contains customer demographics (age, gender, marital status, city_type, stay_in_current_city), product details (product_id and product category) and Total purchase_amount from last month.\n",
    "\n",
    "Now, they want to build a model to predict the purchase amount of customer against various products which will help them to create personalized offer for customers against different products."
   ]
  },
  {
   "cell_type": "code",
   "execution_count": 2,
   "id": "74dccbc1",
   "metadata": {
    "execution": {
     "iopub.execute_input": "2022-06-22T11:14:30.713732Z",
     "iopub.status.busy": "2022-06-22T11:14:30.713248Z",
     "iopub.status.idle": "2022-06-22T11:14:31.824623Z",
     "shell.execute_reply": "2022-06-22T11:14:31.823692Z"
    },
    "papermill": {
     "duration": 1.133638,
     "end_time": "2022-06-22T11:14:31.827129",
     "exception": false,
     "start_time": "2022-06-22T11:14:30.693491",
     "status": "completed"
    },
    "tags": []
   },
   "outputs": [
    {
     "data": {
      "text/html": [
       "<div>\n",
       "<style scoped>\n",
       "    .dataframe tbody tr th:only-of-type {\n",
       "        vertical-align: middle;\n",
       "    }\n",
       "\n",
       "    .dataframe tbody tr th {\n",
       "        vertical-align: top;\n",
       "    }\n",
       "\n",
       "    .dataframe thead th {\n",
       "        text-align: right;\n",
       "    }\n",
       "</style>\n",
       "<table border=\"1\" class=\"dataframe\">\n",
       "  <thead>\n",
       "    <tr style=\"text-align: right;\">\n",
       "      <th></th>\n",
       "      <th>User_ID</th>\n",
       "      <th>Product_ID</th>\n",
       "      <th>Gender</th>\n",
       "      <th>Age</th>\n",
       "      <th>Occupation</th>\n",
       "      <th>City_Category</th>\n",
       "      <th>Stay_In_Current_City_Years</th>\n",
       "      <th>Marital_Status</th>\n",
       "      <th>Product_Category_1</th>\n",
       "      <th>Product_Category_2</th>\n",
       "      <th>Product_Category_3</th>\n",
       "      <th>Purchase</th>\n",
       "    </tr>\n",
       "  </thead>\n",
       "  <tbody>\n",
       "    <tr>\n",
       "      <th>0</th>\n",
       "      <td>1000001</td>\n",
       "      <td>P00069042</td>\n",
       "      <td>F</td>\n",
       "      <td>0-17</td>\n",
       "      <td>10</td>\n",
       "      <td>A</td>\n",
       "      <td>2</td>\n",
       "      <td>0</td>\n",
       "      <td>3</td>\n",
       "      <td>NaN</td>\n",
       "      <td>NaN</td>\n",
       "      <td>8370</td>\n",
       "    </tr>\n",
       "    <tr>\n",
       "      <th>1</th>\n",
       "      <td>1000001</td>\n",
       "      <td>P00248942</td>\n",
       "      <td>F</td>\n",
       "      <td>0-17</td>\n",
       "      <td>10</td>\n",
       "      <td>A</td>\n",
       "      <td>2</td>\n",
       "      <td>0</td>\n",
       "      <td>1</td>\n",
       "      <td>6.0</td>\n",
       "      <td>14.0</td>\n",
       "      <td>15200</td>\n",
       "    </tr>\n",
       "    <tr>\n",
       "      <th>2</th>\n",
       "      <td>1000001</td>\n",
       "      <td>P00087842</td>\n",
       "      <td>F</td>\n",
       "      <td>0-17</td>\n",
       "      <td>10</td>\n",
       "      <td>A</td>\n",
       "      <td>2</td>\n",
       "      <td>0</td>\n",
       "      <td>12</td>\n",
       "      <td>NaN</td>\n",
       "      <td>NaN</td>\n",
       "      <td>1422</td>\n",
       "    </tr>\n",
       "    <tr>\n",
       "      <th>3</th>\n",
       "      <td>1000001</td>\n",
       "      <td>P00085442</td>\n",
       "      <td>F</td>\n",
       "      <td>0-17</td>\n",
       "      <td>10</td>\n",
       "      <td>A</td>\n",
       "      <td>2</td>\n",
       "      <td>0</td>\n",
       "      <td>12</td>\n",
       "      <td>14.0</td>\n",
       "      <td>NaN</td>\n",
       "      <td>1057</td>\n",
       "    </tr>\n",
       "    <tr>\n",
       "      <th>4</th>\n",
       "      <td>1000002</td>\n",
       "      <td>P00285442</td>\n",
       "      <td>M</td>\n",
       "      <td>55+</td>\n",
       "      <td>16</td>\n",
       "      <td>C</td>\n",
       "      <td>4+</td>\n",
       "      <td>0</td>\n",
       "      <td>8</td>\n",
       "      <td>NaN</td>\n",
       "      <td>NaN</td>\n",
       "      <td>7969</td>\n",
       "    </tr>\n",
       "  </tbody>\n",
       "</table>\n",
       "</div>"
      ],
      "text/plain": [
       "   User_ID Product_ID Gender   Age  Occupation City_Category  \\\n",
       "0  1000001  P00069042      F  0-17          10             A   \n",
       "1  1000001  P00248942      F  0-17          10             A   \n",
       "2  1000001  P00087842      F  0-17          10             A   \n",
       "3  1000001  P00085442      F  0-17          10             A   \n",
       "4  1000002  P00285442      M   55+          16             C   \n",
       "\n",
       "  Stay_In_Current_City_Years  Marital_Status  Product_Category_1  \\\n",
       "0                          2               0                   3   \n",
       "1                          2               0                   1   \n",
       "2                          2               0                  12   \n",
       "3                          2               0                  12   \n",
       "4                         4+               0                   8   \n",
       "\n",
       "   Product_Category_2  Product_Category_3  Purchase  \n",
       "0                 NaN                 NaN      8370  \n",
       "1                 6.0                14.0     15200  \n",
       "2                 NaN                 NaN      1422  \n",
       "3                14.0                 NaN      1057  \n",
       "4                 NaN                 NaN      7969  "
      ]
     },
     "execution_count": 2,
     "metadata": {},
     "output_type": "execute_result"
    }
   ],
   "source": [
    "# importing the train data\n",
    "df_train = pd.read_csv('../input/black-friday/train.csv')\n",
    "df_train.head()"
   ]
  },
  {
   "cell_type": "code",
   "execution_count": 3,
   "id": "44e4c1ce",
   "metadata": {
    "execution": {
     "iopub.execute_input": "2022-06-22T11:14:31.866824Z",
     "iopub.status.busy": "2022-06-22T11:14:31.866405Z",
     "iopub.status.idle": "2022-06-22T11:14:31.872495Z",
     "shell.execute_reply": "2022-06-22T11:14:31.871429Z"
    },
    "papermill": {
     "duration": 0.02848,
     "end_time": "2022-06-22T11:14:31.874522",
     "exception": false,
     "start_time": "2022-06-22T11:14:31.846042",
     "status": "completed"
    },
    "tags": []
   },
   "outputs": [
    {
     "data": {
      "text/plain": [
       "(550068, 12)"
      ]
     },
     "execution_count": 3,
     "metadata": {},
     "output_type": "execute_result"
    }
   ],
   "source": [
    "df_train.shape"
   ]
  },
  {
   "cell_type": "code",
   "execution_count": null,
   "id": "5b61d751",
   "metadata": {
    "papermill": {
     "duration": 0.019193,
     "end_time": "2022-06-22T11:14:31.912522",
     "exception": false,
     "start_time": "2022-06-22T11:14:31.893329",
     "status": "completed"
    },
    "tags": []
   },
   "outputs": [],
   "source": []
  },
  {
   "cell_type": "code",
   "execution_count": 4,
   "id": "e165e891",
   "metadata": {
    "execution": {
     "iopub.execute_input": "2022-06-22T11:14:31.950808Z",
     "iopub.status.busy": "2022-06-22T11:14:31.950285Z",
     "iopub.status.idle": "2022-06-22T11:14:32.311131Z",
     "shell.execute_reply": "2022-06-22T11:14:32.310178Z"
    },
    "papermill": {
     "duration": 0.382709,
     "end_time": "2022-06-22T11:14:32.313541",
     "exception": false,
     "start_time": "2022-06-22T11:14:31.930832",
     "status": "completed"
    },
    "tags": []
   },
   "outputs": [
    {
     "data": {
      "text/html": [
       "<div>\n",
       "<style scoped>\n",
       "    .dataframe tbody tr th:only-of-type {\n",
       "        vertical-align: middle;\n",
       "    }\n",
       "\n",
       "    .dataframe tbody tr th {\n",
       "        vertical-align: top;\n",
       "    }\n",
       "\n",
       "    .dataframe thead th {\n",
       "        text-align: right;\n",
       "    }\n",
       "</style>\n",
       "<table border=\"1\" class=\"dataframe\">\n",
       "  <thead>\n",
       "    <tr style=\"text-align: right;\">\n",
       "      <th></th>\n",
       "      <th>User_ID</th>\n",
       "      <th>Product_ID</th>\n",
       "      <th>Gender</th>\n",
       "      <th>Age</th>\n",
       "      <th>Occupation</th>\n",
       "      <th>City_Category</th>\n",
       "      <th>Stay_In_Current_City_Years</th>\n",
       "      <th>Marital_Status</th>\n",
       "      <th>Product_Category_1</th>\n",
       "      <th>Product_Category_2</th>\n",
       "      <th>Product_Category_3</th>\n",
       "    </tr>\n",
       "  </thead>\n",
       "  <tbody>\n",
       "    <tr>\n",
       "      <th>0</th>\n",
       "      <td>1000004</td>\n",
       "      <td>P00128942</td>\n",
       "      <td>M</td>\n",
       "      <td>46-50</td>\n",
       "      <td>7</td>\n",
       "      <td>B</td>\n",
       "      <td>2</td>\n",
       "      <td>1</td>\n",
       "      <td>1</td>\n",
       "      <td>11.0</td>\n",
       "      <td>NaN</td>\n",
       "    </tr>\n",
       "    <tr>\n",
       "      <th>1</th>\n",
       "      <td>1000009</td>\n",
       "      <td>P00113442</td>\n",
       "      <td>M</td>\n",
       "      <td>26-35</td>\n",
       "      <td>17</td>\n",
       "      <td>C</td>\n",
       "      <td>0</td>\n",
       "      <td>0</td>\n",
       "      <td>3</td>\n",
       "      <td>5.0</td>\n",
       "      <td>NaN</td>\n",
       "    </tr>\n",
       "    <tr>\n",
       "      <th>2</th>\n",
       "      <td>1000010</td>\n",
       "      <td>P00288442</td>\n",
       "      <td>F</td>\n",
       "      <td>36-45</td>\n",
       "      <td>1</td>\n",
       "      <td>B</td>\n",
       "      <td>4+</td>\n",
       "      <td>1</td>\n",
       "      <td>5</td>\n",
       "      <td>14.0</td>\n",
       "      <td>NaN</td>\n",
       "    </tr>\n",
       "    <tr>\n",
       "      <th>3</th>\n",
       "      <td>1000010</td>\n",
       "      <td>P00145342</td>\n",
       "      <td>F</td>\n",
       "      <td>36-45</td>\n",
       "      <td>1</td>\n",
       "      <td>B</td>\n",
       "      <td>4+</td>\n",
       "      <td>1</td>\n",
       "      <td>4</td>\n",
       "      <td>9.0</td>\n",
       "      <td>NaN</td>\n",
       "    </tr>\n",
       "    <tr>\n",
       "      <th>4</th>\n",
       "      <td>1000011</td>\n",
       "      <td>P00053842</td>\n",
       "      <td>F</td>\n",
       "      <td>26-35</td>\n",
       "      <td>1</td>\n",
       "      <td>C</td>\n",
       "      <td>1</td>\n",
       "      <td>0</td>\n",
       "      <td>4</td>\n",
       "      <td>5.0</td>\n",
       "      <td>12.0</td>\n",
       "    </tr>\n",
       "  </tbody>\n",
       "</table>\n",
       "</div>"
      ],
      "text/plain": [
       "   User_ID Product_ID Gender    Age  Occupation City_Category  \\\n",
       "0  1000004  P00128942      M  46-50           7             B   \n",
       "1  1000009  P00113442      M  26-35          17             C   \n",
       "2  1000010  P00288442      F  36-45           1             B   \n",
       "3  1000010  P00145342      F  36-45           1             B   \n",
       "4  1000011  P00053842      F  26-35           1             C   \n",
       "\n",
       "  Stay_In_Current_City_Years  Marital_Status  Product_Category_1  \\\n",
       "0                          2               1                   1   \n",
       "1                          0               0                   3   \n",
       "2                         4+               1                   5   \n",
       "3                         4+               1                   4   \n",
       "4                          1               0                   4   \n",
       "\n",
       "   Product_Category_2  Product_Category_3  \n",
       "0                11.0                 NaN  \n",
       "1                 5.0                 NaN  \n",
       "2                14.0                 NaN  \n",
       "3                 9.0                 NaN  \n",
       "4                 5.0                12.0  "
      ]
     },
     "execution_count": 4,
     "metadata": {},
     "output_type": "execute_result"
    }
   ],
   "source": [
    "#import the test data\n",
    "df_test = pd.read_csv('../input/black-friday/test.csv')\n",
    "df_test.head()"
   ]
  },
  {
   "cell_type": "code",
   "execution_count": 5,
   "id": "7e0c6cf9",
   "metadata": {
    "execution": {
     "iopub.execute_input": "2022-06-22T11:14:32.356213Z",
     "iopub.status.busy": "2022-06-22T11:14:32.354846Z",
     "iopub.status.idle": "2022-06-22T11:14:32.362360Z",
     "shell.execute_reply": "2022-06-22T11:14:32.361194Z"
    },
    "papermill": {
     "duration": 0.031216,
     "end_time": "2022-06-22T11:14:32.365146",
     "exception": false,
     "start_time": "2022-06-22T11:14:32.333930",
     "status": "completed"
    },
    "tags": []
   },
   "outputs": [
    {
     "data": {
      "text/plain": [
       "(233599, 11)"
      ]
     },
     "execution_count": 5,
     "metadata": {},
     "output_type": "execute_result"
    }
   ],
   "source": [
    "df_test.shape"
   ]
  },
  {
   "cell_type": "code",
   "execution_count": null,
   "id": "98d65d70",
   "metadata": {
    "papermill": {
     "duration": 0.018899,
     "end_time": "2022-06-22T11:14:32.404100",
     "exception": false,
     "start_time": "2022-06-22T11:14:32.385201",
     "status": "completed"
    },
    "tags": []
   },
   "outputs": [],
   "source": []
  },
  {
   "cell_type": "code",
   "execution_count": 6,
   "id": "c05922e4",
   "metadata": {
    "execution": {
     "iopub.execute_input": "2022-06-22T11:14:32.443387Z",
     "iopub.status.busy": "2022-06-22T11:14:32.442985Z",
     "iopub.status.idle": "2022-06-22T11:14:32.593775Z",
     "shell.execute_reply": "2022-06-22T11:14:32.592774Z"
    },
    "papermill": {
     "duration": 0.173504,
     "end_time": "2022-06-22T11:14:32.596483",
     "exception": false,
     "start_time": "2022-06-22T11:14:32.422979",
     "status": "completed"
    },
    "tags": []
   },
   "outputs": [],
   "source": [
    "df = pd.concat([df_train,df_test])"
   ]
  },
  {
   "cell_type": "code",
   "execution_count": 7,
   "id": "ed93e6c6",
   "metadata": {
    "execution": {
     "iopub.execute_input": "2022-06-22T11:14:32.636138Z",
     "iopub.status.busy": "2022-06-22T11:14:32.635739Z",
     "iopub.status.idle": "2022-06-22T11:14:32.653389Z",
     "shell.execute_reply": "2022-06-22T11:14:32.652459Z"
    },
    "papermill": {
     "duration": 0.039874,
     "end_time": "2022-06-22T11:14:32.655513",
     "exception": false,
     "start_time": "2022-06-22T11:14:32.615639",
     "status": "completed"
    },
    "tags": []
   },
   "outputs": [
    {
     "data": {
      "text/html": [
       "<div>\n",
       "<style scoped>\n",
       "    .dataframe tbody tr th:only-of-type {\n",
       "        vertical-align: middle;\n",
       "    }\n",
       "\n",
       "    .dataframe tbody tr th {\n",
       "        vertical-align: top;\n",
       "    }\n",
       "\n",
       "    .dataframe thead th {\n",
       "        text-align: right;\n",
       "    }\n",
       "</style>\n",
       "<table border=\"1\" class=\"dataframe\">\n",
       "  <thead>\n",
       "    <tr style=\"text-align: right;\">\n",
       "      <th></th>\n",
       "      <th>User_ID</th>\n",
       "      <th>Product_ID</th>\n",
       "      <th>Gender</th>\n",
       "      <th>Age</th>\n",
       "      <th>Occupation</th>\n",
       "      <th>City_Category</th>\n",
       "      <th>Stay_In_Current_City_Years</th>\n",
       "      <th>Marital_Status</th>\n",
       "      <th>Product_Category_1</th>\n",
       "      <th>Product_Category_2</th>\n",
       "      <th>Product_Category_3</th>\n",
       "      <th>Purchase</th>\n",
       "    </tr>\n",
       "  </thead>\n",
       "  <tbody>\n",
       "    <tr>\n",
       "      <th>0</th>\n",
       "      <td>1000001</td>\n",
       "      <td>P00069042</td>\n",
       "      <td>F</td>\n",
       "      <td>0-17</td>\n",
       "      <td>10</td>\n",
       "      <td>A</td>\n",
       "      <td>2</td>\n",
       "      <td>0</td>\n",
       "      <td>3</td>\n",
       "      <td>NaN</td>\n",
       "      <td>NaN</td>\n",
       "      <td>8370.0</td>\n",
       "    </tr>\n",
       "    <tr>\n",
       "      <th>1</th>\n",
       "      <td>1000001</td>\n",
       "      <td>P00248942</td>\n",
       "      <td>F</td>\n",
       "      <td>0-17</td>\n",
       "      <td>10</td>\n",
       "      <td>A</td>\n",
       "      <td>2</td>\n",
       "      <td>0</td>\n",
       "      <td>1</td>\n",
       "      <td>6.0</td>\n",
       "      <td>14.0</td>\n",
       "      <td>15200.0</td>\n",
       "    </tr>\n",
       "    <tr>\n",
       "      <th>2</th>\n",
       "      <td>1000001</td>\n",
       "      <td>P00087842</td>\n",
       "      <td>F</td>\n",
       "      <td>0-17</td>\n",
       "      <td>10</td>\n",
       "      <td>A</td>\n",
       "      <td>2</td>\n",
       "      <td>0</td>\n",
       "      <td>12</td>\n",
       "      <td>NaN</td>\n",
       "      <td>NaN</td>\n",
       "      <td>1422.0</td>\n",
       "    </tr>\n",
       "    <tr>\n",
       "      <th>3</th>\n",
       "      <td>1000001</td>\n",
       "      <td>P00085442</td>\n",
       "      <td>F</td>\n",
       "      <td>0-17</td>\n",
       "      <td>10</td>\n",
       "      <td>A</td>\n",
       "      <td>2</td>\n",
       "      <td>0</td>\n",
       "      <td>12</td>\n",
       "      <td>14.0</td>\n",
       "      <td>NaN</td>\n",
       "      <td>1057.0</td>\n",
       "    </tr>\n",
       "    <tr>\n",
       "      <th>4</th>\n",
       "      <td>1000002</td>\n",
       "      <td>P00285442</td>\n",
       "      <td>M</td>\n",
       "      <td>55+</td>\n",
       "      <td>16</td>\n",
       "      <td>C</td>\n",
       "      <td>4+</td>\n",
       "      <td>0</td>\n",
       "      <td>8</td>\n",
       "      <td>NaN</td>\n",
       "      <td>NaN</td>\n",
       "      <td>7969.0</td>\n",
       "    </tr>\n",
       "  </tbody>\n",
       "</table>\n",
       "</div>"
      ],
      "text/plain": [
       "   User_ID Product_ID Gender   Age  Occupation City_Category  \\\n",
       "0  1000001  P00069042      F  0-17          10             A   \n",
       "1  1000001  P00248942      F  0-17          10             A   \n",
       "2  1000001  P00087842      F  0-17          10             A   \n",
       "3  1000001  P00085442      F  0-17          10             A   \n",
       "4  1000002  P00285442      M   55+          16             C   \n",
       "\n",
       "  Stay_In_Current_City_Years  Marital_Status  Product_Category_1  \\\n",
       "0                          2               0                   3   \n",
       "1                          2               0                   1   \n",
       "2                          2               0                  12   \n",
       "3                          2               0                  12   \n",
       "4                         4+               0                   8   \n",
       "\n",
       "   Product_Category_2  Product_Category_3  Purchase  \n",
       "0                 NaN                 NaN    8370.0  \n",
       "1                 6.0                14.0   15200.0  \n",
       "2                 NaN                 NaN    1422.0  \n",
       "3                14.0                 NaN    1057.0  \n",
       "4                 NaN                 NaN    7969.0  "
      ]
     },
     "execution_count": 7,
     "metadata": {},
     "output_type": "execute_result"
    }
   ],
   "source": [
    "df.head()"
   ]
  },
  {
   "cell_type": "code",
   "execution_count": 8,
   "id": "4a9c294d",
   "metadata": {
    "execution": {
     "iopub.execute_input": "2022-06-22T11:14:32.695848Z",
     "iopub.status.busy": "2022-06-22T11:14:32.695467Z",
     "iopub.status.idle": "2022-06-22T11:14:32.701738Z",
     "shell.execute_reply": "2022-06-22T11:14:32.700694Z"
    },
    "papermill": {
     "duration": 0.029295,
     "end_time": "2022-06-22T11:14:32.703921",
     "exception": false,
     "start_time": "2022-06-22T11:14:32.674626",
     "status": "completed"
    },
    "tags": []
   },
   "outputs": [
    {
     "data": {
      "text/plain": [
       "(783667, 12)"
      ]
     },
     "execution_count": 8,
     "metadata": {},
     "output_type": "execute_result"
    }
   ],
   "source": [
    "df.shape"
   ]
  },
  {
   "cell_type": "code",
   "execution_count": null,
   "id": "b34db4a6",
   "metadata": {
    "papermill": {
     "duration": 0.019276,
     "end_time": "2022-06-22T11:14:32.742883",
     "exception": false,
     "start_time": "2022-06-22T11:14:32.723607",
     "status": "completed"
    },
    "tags": []
   },
   "outputs": [],
   "source": []
  },
  {
   "cell_type": "code",
   "execution_count": 9,
   "id": "8c0a7f94",
   "metadata": {
    "execution": {
     "iopub.execute_input": "2022-06-22T11:14:32.784228Z",
     "iopub.status.busy": "2022-06-22T11:14:32.783807Z",
     "iopub.status.idle": "2022-06-22T11:14:33.238359Z",
     "shell.execute_reply": "2022-06-22T11:14:33.237653Z"
    },
    "papermill": {
     "duration": 0.47837,
     "end_time": "2022-06-22T11:14:33.240606",
     "exception": false,
     "start_time": "2022-06-22T11:14:32.762236",
     "status": "completed"
    },
    "tags": []
   },
   "outputs": [
    {
     "name": "stdout",
     "output_type": "stream",
     "text": [
      "<class 'pandas.core.frame.DataFrame'>\n",
      "Int64Index: 783667 entries, 0 to 233598\n",
      "Data columns (total 12 columns):\n",
      " #   Column                      Non-Null Count   Dtype  \n",
      "---  ------                      --------------   -----  \n",
      " 0   User_ID                     783667 non-null  int64  \n",
      " 1   Product_ID                  783667 non-null  object \n",
      " 2   Gender                      783667 non-null  object \n",
      " 3   Age                         783667 non-null  object \n",
      " 4   Occupation                  783667 non-null  int64  \n",
      " 5   City_Category               783667 non-null  object \n",
      " 6   Stay_In_Current_City_Years  783667 non-null  object \n",
      " 7   Marital_Status              783667 non-null  int64  \n",
      " 8   Product_Category_1          783667 non-null  int64  \n",
      " 9   Product_Category_2          537685 non-null  float64\n",
      " 10  Product_Category_3          237858 non-null  float64\n",
      " 11  Purchase                    550068 non-null  float64\n",
      "dtypes: float64(3), int64(4), object(5)\n",
      "memory usage: 77.7+ MB\n"
     ]
    }
   ],
   "source": [
    "df.info()"
   ]
  },
  {
   "cell_type": "code",
   "execution_count": null,
   "id": "2de940e5",
   "metadata": {
    "papermill": {
     "duration": 0.019467,
     "end_time": "2022-06-22T11:14:33.279835",
     "exception": false,
     "start_time": "2022-06-22T11:14:33.260368",
     "status": "completed"
    },
    "tags": []
   },
   "outputs": [],
   "source": []
  },
  {
   "cell_type": "code",
   "execution_count": 10,
   "id": "31999256",
   "metadata": {
    "execution": {
     "iopub.execute_input": "2022-06-22T11:14:33.321105Z",
     "iopub.status.busy": "2022-06-22T11:14:33.320681Z",
     "iopub.status.idle": "2022-06-22T11:14:33.924822Z",
     "shell.execute_reply": "2022-06-22T11:14:33.923581Z"
    },
    "papermill": {
     "duration": 0.6281,
     "end_time": "2022-06-22T11:14:33.927667",
     "exception": false,
     "start_time": "2022-06-22T11:14:33.299567",
     "status": "completed"
    },
    "tags": []
   },
   "outputs": [
    {
     "data": {
      "text/plain": [
       "0"
      ]
     },
     "execution_count": 10,
     "metadata": {},
     "output_type": "execute_result"
    }
   ],
   "source": [
    "## Checking for duplicated records\n",
    "df.duplicated().sum()"
   ]
  },
  {
   "cell_type": "code",
   "execution_count": 11,
   "id": "4a9a30af",
   "metadata": {
    "execution": {
     "iopub.execute_input": "2022-06-22T11:14:33.969330Z",
     "iopub.status.busy": "2022-06-22T11:14:33.968895Z",
     "iopub.status.idle": "2022-06-22T11:14:34.401088Z",
     "shell.execute_reply": "2022-06-22T11:14:34.400363Z"
    },
    "papermill": {
     "duration": 0.454839,
     "end_time": "2022-06-22T11:14:34.403001",
     "exception": false,
     "start_time": "2022-06-22T11:14:33.948162",
     "status": "completed"
    },
    "tags": []
   },
   "outputs": [
    {
     "data": {
      "text/plain": [
       "User_ID                            0\n",
       "Product_ID                         0\n",
       "Gender                             0\n",
       "Age                                0\n",
       "Occupation                         0\n",
       "City_Category                      0\n",
       "Stay_In_Current_City_Years         0\n",
       "Marital_Status                     0\n",
       "Product_Category_1                 0\n",
       "Product_Category_2            245982\n",
       "Product_Category_3            545809\n",
       "Purchase                      233599\n",
       "dtype: int64"
      ]
     },
     "execution_count": 11,
     "metadata": {},
     "output_type": "execute_result"
    }
   ],
   "source": [
    "## Checking for null values\n",
    "df.isnull().sum()"
   ]
  },
  {
   "cell_type": "code",
   "execution_count": null,
   "id": "eaee967c",
   "metadata": {
    "papermill": {
     "duration": 0.020269,
     "end_time": "2022-06-22T11:14:34.443611",
     "exception": false,
     "start_time": "2022-06-22T11:14:34.423342",
     "status": "completed"
    },
    "tags": []
   },
   "outputs": [],
   "source": []
  },
  {
   "cell_type": "code",
   "execution_count": 12,
   "id": "7a14bda3",
   "metadata": {
    "execution": {
     "iopub.execute_input": "2022-06-22T11:14:34.485276Z",
     "iopub.status.busy": "2022-06-22T11:14:34.484356Z",
     "iopub.status.idle": "2022-06-22T11:14:34.501632Z",
     "shell.execute_reply": "2022-06-22T11:14:34.501008Z"
    },
    "papermill": {
     "duration": 0.040148,
     "end_time": "2022-06-22T11:14:34.503507",
     "exception": false,
     "start_time": "2022-06-22T11:14:34.463359",
     "status": "completed"
    },
    "tags": []
   },
   "outputs": [
    {
     "data": {
      "text/plain": [
       "array([nan,  6., 14.,  2.,  8., 15., 16., 11.,  5.,  3.,  4., 12.,  9.,\n",
       "       10., 17., 13.,  7., 18.])"
      ]
     },
     "execution_count": 12,
     "metadata": {},
     "output_type": "execute_result"
    }
   ],
   "source": [
    "df['Product_Category_2'].unique() #checking the type of data"
   ]
  },
  {
   "cell_type": "code",
   "execution_count": 13,
   "id": "81d8e3ef",
   "metadata": {
    "execution": {
     "iopub.execute_input": "2022-06-22T11:14:34.545097Z",
     "iopub.status.busy": "2022-06-22T11:14:34.544260Z",
     "iopub.status.idle": "2022-06-22T11:14:34.564887Z",
     "shell.execute_reply": "2022-06-22T11:14:34.563783Z"
    },
    "papermill": {
     "duration": 0.043911,
     "end_time": "2022-06-22T11:14:34.567349",
     "exception": false,
     "start_time": "2022-06-22T11:14:34.523438",
     "status": "completed"
    },
    "tags": []
   },
   "outputs": [
    {
     "data": {
      "text/plain": [
       "8.0     91317\n",
       "14.0    78834\n",
       "2.0     70498\n",
       "16.0    61687\n",
       "15.0    54114\n",
       "5.0     37165\n",
       "4.0     36705\n",
       "6.0     23575\n",
       "11.0    20230\n",
       "17.0    19104\n",
       "13.0    15054\n",
       "9.0      8177\n",
       "12.0     7801\n",
       "10.0     4420\n",
       "3.0      4123\n",
       "18.0     4027\n",
       "7.0       854\n",
       "Name: Product_Category_2, dtype: int64"
      ]
     },
     "execution_count": 13,
     "metadata": {},
     "output_type": "execute_result"
    }
   ],
   "source": [
    "df['Product_Category_2'].value_counts()"
   ]
  },
  {
   "cell_type": "code",
   "execution_count": 14,
   "id": "9458cc4f",
   "metadata": {
    "execution": {
     "iopub.execute_input": "2022-06-22T11:14:34.611011Z",
     "iopub.status.busy": "2022-06-22T11:14:34.610611Z",
     "iopub.status.idle": "2022-06-22T11:14:34.614414Z",
     "shell.execute_reply": "2022-06-22T11:14:34.613542Z"
    },
    "papermill": {
     "duration": 0.02784,
     "end_time": "2022-06-22T11:14:34.616293",
     "exception": false,
     "start_time": "2022-06-22T11:14:34.588453",
     "status": "completed"
    },
    "tags": []
   },
   "outputs": [],
   "source": [
    "# Replaceing nan values with mode value that is (8.0)"
   ]
  },
  {
   "cell_type": "code",
   "execution_count": 15,
   "id": "562a6205",
   "metadata": {
    "execution": {
     "iopub.execute_input": "2022-06-22T11:14:34.658271Z",
     "iopub.status.busy": "2022-06-22T11:14:34.657790Z",
     "iopub.status.idle": "2022-06-22T11:14:34.673464Z",
     "shell.execute_reply": "2022-06-22T11:14:34.672559Z"
    },
    "papermill": {
     "duration": 0.038906,
     "end_time": "2022-06-22T11:14:34.675341",
     "exception": false,
     "start_time": "2022-06-22T11:14:34.636435",
     "status": "completed"
    },
    "tags": []
   },
   "outputs": [
    {
     "data": {
      "text/plain": [
       "8.0"
      ]
     },
     "execution_count": 15,
     "metadata": {},
     "output_type": "execute_result"
    }
   ],
   "source": [
    "mode_value2 = df['Product_Category_2'].mode()[0]\n",
    "mode_value2"
   ]
  },
  {
   "cell_type": "code",
   "execution_count": 16,
   "id": "92ff46b3",
   "metadata": {
    "execution": {
     "iopub.execute_input": "2022-06-22T11:14:34.717537Z",
     "iopub.status.busy": "2022-06-22T11:14:34.717096Z",
     "iopub.status.idle": "2022-06-22T11:14:34.733868Z",
     "shell.execute_reply": "2022-06-22T11:14:34.732898Z"
    },
    "papermill": {
     "duration": 0.040787,
     "end_time": "2022-06-22T11:14:34.736295",
     "exception": false,
     "start_time": "2022-06-22T11:14:34.695508",
     "status": "completed"
    },
    "tags": []
   },
   "outputs": [],
   "source": [
    "df['Product_Category_2'] = df['Product_Category_2'].fillna(mode_value2)"
   ]
  },
  {
   "cell_type": "code",
   "execution_count": 17,
   "id": "64b5ec98",
   "metadata": {
    "execution": {
     "iopub.execute_input": "2022-06-22T11:14:34.779343Z",
     "iopub.status.busy": "2022-06-22T11:14:34.778891Z",
     "iopub.status.idle": "2022-06-22T11:14:35.362802Z",
     "shell.execute_reply": "2022-06-22T11:14:35.361934Z"
    },
    "papermill": {
     "duration": 0.60783,
     "end_time": "2022-06-22T11:14:35.364978",
     "exception": false,
     "start_time": "2022-06-22T11:14:34.757148",
     "status": "completed"
    },
    "tags": []
   },
   "outputs": [
    {
     "data": {
      "text/plain": [
       "0"
      ]
     },
     "execution_count": 17,
     "metadata": {},
     "output_type": "execute_result"
    }
   ],
   "source": [
    "df.duplicated().sum()"
   ]
  },
  {
   "cell_type": "code",
   "execution_count": null,
   "id": "8f7fbf37",
   "metadata": {
    "papermill": {
     "duration": 0.019825,
     "end_time": "2022-06-22T11:14:35.405573",
     "exception": false,
     "start_time": "2022-06-22T11:14:35.385748",
     "status": "completed"
    },
    "tags": []
   },
   "outputs": [],
   "source": []
  },
  {
   "cell_type": "code",
   "execution_count": 18,
   "id": "155d2e7e",
   "metadata": {
    "execution": {
     "iopub.execute_input": "2022-06-22T11:14:35.447783Z",
     "iopub.status.busy": "2022-06-22T11:14:35.447374Z",
     "iopub.status.idle": "2022-06-22T11:14:35.876439Z",
     "shell.execute_reply": "2022-06-22T11:14:35.875491Z"
    },
    "papermill": {
     "duration": 0.453261,
     "end_time": "2022-06-22T11:14:35.878956",
     "exception": false,
     "start_time": "2022-06-22T11:14:35.425695",
     "status": "completed"
    },
    "tags": []
   },
   "outputs": [
    {
     "data": {
      "text/plain": [
       "User_ID                            0\n",
       "Product_ID                         0\n",
       "Gender                             0\n",
       "Age                                0\n",
       "Occupation                         0\n",
       "City_Category                      0\n",
       "Stay_In_Current_City_Years         0\n",
       "Marital_Status                     0\n",
       "Product_Category_1                 0\n",
       "Product_Category_2                 0\n",
       "Product_Category_3            545809\n",
       "Purchase                      233599\n",
       "dtype: int64"
      ]
     },
     "execution_count": 18,
     "metadata": {},
     "output_type": "execute_result"
    }
   ],
   "source": [
    "## Checking for null values\n",
    "df.isnull().sum()"
   ]
  },
  {
   "cell_type": "code",
   "execution_count": 19,
   "id": "82286346",
   "metadata": {
    "execution": {
     "iopub.execute_input": "2022-06-22T11:14:35.922362Z",
     "iopub.status.busy": "2022-06-22T11:14:35.921969Z",
     "iopub.status.idle": "2022-06-22T11:14:35.936727Z",
     "shell.execute_reply": "2022-06-22T11:14:35.935819Z"
    },
    "papermill": {
     "duration": 0.038798,
     "end_time": "2022-06-22T11:14:35.938877",
     "exception": false,
     "start_time": "2022-06-22T11:14:35.900079",
     "status": "completed"
    },
    "tags": []
   },
   "outputs": [
    {
     "data": {
      "text/plain": [
       "array([nan, 14., 17.,  5.,  4., 16., 15.,  8.,  9., 13.,  6., 12.,  3.,\n",
       "       18., 11., 10.])"
      ]
     },
     "execution_count": 19,
     "metadata": {},
     "output_type": "execute_result"
    }
   ],
   "source": [
    "df['Product_Category_3'].unique() #checking the type of data"
   ]
  },
  {
   "cell_type": "code",
   "execution_count": 20,
   "id": "76630b07",
   "metadata": {
    "execution": {
     "iopub.execute_input": "2022-06-22T11:14:35.981608Z",
     "iopub.status.busy": "2022-06-22T11:14:35.980989Z",
     "iopub.status.idle": "2022-06-22T11:14:35.997585Z",
     "shell.execute_reply": "2022-06-22T11:14:35.996432Z"
    },
    "papermill": {
     "duration": 0.040352,
     "end_time": "2022-06-22T11:14:35.999710",
     "exception": false,
     "start_time": "2022-06-22T11:14:35.959358",
     "status": "completed"
    },
    "tags": []
   },
   "outputs": [
    {
     "data": {
      "text/plain": [
       "16.0    46469\n",
       "15.0    39968\n",
       "14.0    26283\n",
       "17.0    23818\n",
       "5.0     23799\n",
       "8.0     17861\n",
       "9.0     16532\n",
       "12.0    13115\n",
       "13.0     7849\n",
       "6.0      6888\n",
       "18.0     6621\n",
       "4.0      2691\n",
       "11.0     2585\n",
       "10.0     2501\n",
       "3.0       878\n",
       "Name: Product_Category_3, dtype: int64"
      ]
     },
     "execution_count": 20,
     "metadata": {},
     "output_type": "execute_result"
    }
   ],
   "source": [
    "df['Product_Category_3'].value_counts()"
   ]
  },
  {
   "cell_type": "code",
   "execution_count": 21,
   "id": "2c836617",
   "metadata": {
    "execution": {
     "iopub.execute_input": "2022-06-22T11:14:36.043132Z",
     "iopub.status.busy": "2022-06-22T11:14:36.042723Z",
     "iopub.status.idle": "2022-06-22T11:14:36.056042Z",
     "shell.execute_reply": "2022-06-22T11:14:36.055177Z"
    },
    "papermill": {
     "duration": 0.037443,
     "end_time": "2022-06-22T11:14:36.057892",
     "exception": false,
     "start_time": "2022-06-22T11:14:36.020449",
     "status": "completed"
    },
    "tags": []
   },
   "outputs": [
    {
     "data": {
      "text/plain": [
       "16.0"
      ]
     },
     "execution_count": 21,
     "metadata": {},
     "output_type": "execute_result"
    }
   ],
   "source": [
    "mode_value3 = df['Product_Category_3'].mode()[0]\n",
    "mode_value3"
   ]
  },
  {
   "cell_type": "code",
   "execution_count": 22,
   "id": "1377ec40",
   "metadata": {
    "execution": {
     "iopub.execute_input": "2022-06-22T11:14:36.101459Z",
     "iopub.status.busy": "2022-06-22T11:14:36.100611Z",
     "iopub.status.idle": "2022-06-22T11:14:36.118030Z",
     "shell.execute_reply": "2022-06-22T11:14:36.117056Z"
    },
    "papermill": {
     "duration": 0.041907,
     "end_time": "2022-06-22T11:14:36.120537",
     "exception": false,
     "start_time": "2022-06-22T11:14:36.078630",
     "status": "completed"
    },
    "tags": []
   },
   "outputs": [],
   "source": [
    "df['Product_Category_3'] = df['Product_Category_3'].fillna(mode_value3)"
   ]
  },
  {
   "cell_type": "code",
   "execution_count": null,
   "id": "62a549ce",
   "metadata": {
    "papermill": {
     "duration": 0.02091,
     "end_time": "2022-06-22T11:14:36.162901",
     "exception": false,
     "start_time": "2022-06-22T11:14:36.141991",
     "status": "completed"
    },
    "tags": []
   },
   "outputs": [],
   "source": []
  },
  {
   "cell_type": "code",
   "execution_count": 23,
   "id": "4e69ef1f",
   "metadata": {
    "execution": {
     "iopub.execute_input": "2022-06-22T11:14:36.206263Z",
     "iopub.status.busy": "2022-06-22T11:14:36.205673Z",
     "iopub.status.idle": "2022-06-22T11:14:36.634867Z",
     "shell.execute_reply": "2022-06-22T11:14:36.633968Z"
    },
    "papermill": {
     "duration": 0.453359,
     "end_time": "2022-06-22T11:14:36.637074",
     "exception": false,
     "start_time": "2022-06-22T11:14:36.183715",
     "status": "completed"
    },
    "tags": []
   },
   "outputs": [
    {
     "data": {
      "text/plain": [
       "User_ID                            0\n",
       "Product_ID                         0\n",
       "Gender                             0\n",
       "Age                                0\n",
       "Occupation                         0\n",
       "City_Category                      0\n",
       "Stay_In_Current_City_Years         0\n",
       "Marital_Status                     0\n",
       "Product_Category_1                 0\n",
       "Product_Category_2                 0\n",
       "Product_Category_3                 0\n",
       "Purchase                      233599\n",
       "dtype: int64"
      ]
     },
     "execution_count": 23,
     "metadata": {},
     "output_type": "execute_result"
    }
   ],
   "source": [
    "## Checking for null values\n",
    "df.isnull().sum()"
   ]
  },
  {
   "cell_type": "code",
   "execution_count": null,
   "id": "eff99662",
   "metadata": {
    "papermill": {
     "duration": 0.02102,
     "end_time": "2022-06-22T11:14:36.679850",
     "exception": false,
     "start_time": "2022-06-22T11:14:36.658830",
     "status": "completed"
    },
    "tags": []
   },
   "outputs": [],
   "source": []
  },
  {
   "cell_type": "markdown",
   "id": "101a026f",
   "metadata": {
    "papermill": {
     "duration": 0.02051,
     "end_time": "2022-06-22T11:14:36.721144",
     "exception": false,
     "start_time": "2022-06-22T11:14:36.700634",
     "status": "completed"
    },
    "tags": []
   },
   "source": [
    "### Presenting some visual outcomes"
   ]
  },
  {
   "cell_type": "code",
   "execution_count": 24,
   "id": "961c2b38",
   "metadata": {
    "execution": {
     "iopub.execute_input": "2022-06-22T11:14:36.764697Z",
     "iopub.status.busy": "2022-06-22T11:14:36.764287Z",
     "iopub.status.idle": "2022-06-22T11:14:44.381677Z",
     "shell.execute_reply": "2022-06-22T11:14:44.380660Z"
    },
    "papermill": {
     "duration": 7.641687,
     "end_time": "2022-06-22T11:14:44.383766",
     "exception": false,
     "start_time": "2022-06-22T11:14:36.742079",
     "status": "completed"
    },
    "tags": []
   },
   "outputs": [
    {
     "data": {
      "text/plain": [
       "<AxesSubplot:xlabel='Age', ylabel='Purchase'>"
      ]
     },
     "execution_count": 24,
     "metadata": {},
     "output_type": "execute_result"
    },
    {
     "data": {
      "image/png": "[encoded data removed]",
      "text/plain": [
       "<Figure size 1008x504 with 1 Axes>"
      ]
     },
     "metadata": {
      "needs_background": "light"
     },
     "output_type": "display_data"
    }
   ],
   "source": [
    "plt.figure(figsize=(14,7))\n",
    "sns.barplot(data=df, x='Age', y ='Purchase')"
   ]
  },
  {
   "cell_type": "markdown",
   "id": "d35b53ae",
   "metadata": {
    "papermill": {
     "duration": 0.021364,
     "end_time": "2022-06-22T11:14:44.426721",
     "exception": false,
     "start_time": "2022-06-22T11:14:44.405357",
     "status": "completed"
    },
    "tags": []
   },
   "source": [
    "## Observation\n",
    "1. Age group 51-55 has done the heighest puchasing.\n",
    "2. Overall all the age groups have not much fluctuations regarding their age. \n"
   ]
  },
  {
   "cell_type": "code",
   "execution_count": null,
   "id": "6c3ba0bd",
   "metadata": {
    "papermill": {
     "duration": 0.021946,
     "end_time": "2022-06-22T11:14:44.470266",
     "exception": false,
     "start_time": "2022-06-22T11:14:44.448320",
     "status": "completed"
    },
    "tags": []
   },
   "outputs": [],
   "source": []
  },
  {
   "cell_type": "code",
   "execution_count": 25,
   "id": "e00391a2",
   "metadata": {
    "execution": {
     "iopub.execute_input": "2022-06-22T11:14:44.515931Z",
     "iopub.status.busy": "2022-06-22T11:14:44.515553Z",
     "iopub.status.idle": "2022-06-22T11:14:52.578897Z",
     "shell.execute_reply": "2022-06-22T11:14:52.577775Z"
    },
    "papermill": {
     "duration": 8.088647,
     "end_time": "2022-06-22T11:14:52.581225",
     "exception": false,
     "start_time": "2022-06-22T11:14:44.492578",
     "status": "completed"
    },
    "tags": []
   },
   "outputs": [
    {
     "data": {
      "text/plain": [
       "<AxesSubplot:xlabel='Age', ylabel='Purchase'>"
      ]
     },
     "execution_count": 25,
     "metadata": {},
     "output_type": "execute_result"
    },
    {
     "data": {
      "image/png": "[encoded data removed]",
      "text/plain": [
       "<Figure size 1008x504 with 1 Axes>"
      ]
     },
     "metadata": {
      "needs_background": "light"
     },
     "output_type": "display_data"
    }
   ],
   "source": [
    "plt.figure(figsize=(14,7))\n",
    "sns.barplot(data=df, x='Age', y ='Purchase', hue='Gender', palette=['yellow','green'])"
   ]
  },
  {
   "cell_type": "markdown",
   "id": "5a33bf39",
   "metadata": {
    "papermill": {
     "duration": 0.021631,
     "end_time": "2022-06-22T11:14:52.624876",
     "exception": false,
     "start_time": "2022-06-22T11:14:52.603245",
     "status": "completed"
    },
    "tags": []
   },
   "source": [
    "## Observation\n",
    "1. Purchaseing done by male is more than female for every age group"
   ]
  },
  {
   "cell_type": "code",
   "execution_count": null,
   "id": "1f9f0983",
   "metadata": {
    "papermill": {
     "duration": 0.021558,
     "end_time": "2022-06-22T11:14:52.668214",
     "exception": false,
     "start_time": "2022-06-22T11:14:52.646656",
     "status": "completed"
    },
    "tags": []
   },
   "outputs": [],
   "source": []
  },
  {
   "cell_type": "code",
   "execution_count": 26,
   "id": "22c2eb43",
   "metadata": {
    "execution": {
     "iopub.execute_input": "2022-06-22T11:14:52.713755Z",
     "iopub.status.busy": "2022-06-22T11:14:52.713095Z",
     "iopub.status.idle": "2022-06-22T11:14:59.572948Z",
     "shell.execute_reply": "2022-06-22T11:14:59.571979Z"
    },
    "papermill": {
     "duration": 6.885482,
     "end_time": "2022-06-22T11:14:59.575341",
     "exception": false,
     "start_time": "2022-06-22T11:14:52.689859",
     "status": "completed"
    },
    "tags": []
   },
   "outputs": [
    {
     "data": {
      "text/plain": [
       "<AxesSubplot:xlabel='Occupation', ylabel='Purchase'>"
      ]
     },
     "execution_count": 26,
     "metadata": {},
     "output_type": "execute_result"
    },
    {
     "data": {
      "image/png": "[encoded data removed]",
      "text/plain": [
       "<Figure size 1008x504 with 1 Axes>"
      ]
     },
     "metadata": {
      "needs_background": "light"
     },
     "output_type": "display_data"
    }
   ],
   "source": [
    "## puchase with respect to occupation\n",
    "plt.figure(figsize=(14,7))\n",
    "sns.barplot(data=df, x='Occupation', y ='Purchase')"
   ]
  },
  {
   "cell_type": "code",
   "execution_count": null,
   "id": "c938a6e1",
   "metadata": {
    "papermill": {
     "duration": 0.021894,
     "end_time": "2022-06-22T11:14:59.619662",
     "exception": false,
     "start_time": "2022-06-22T11:14:59.597768",
     "status": "completed"
    },
    "tags": []
   },
   "outputs": [],
   "source": []
  },
  {
   "cell_type": "code",
   "execution_count": 27,
   "id": "842ae66d",
   "metadata": {
    "execution": {
     "iopub.execute_input": "2022-06-22T11:14:59.666219Z",
     "iopub.status.busy": "2022-06-22T11:14:59.665804Z",
     "iopub.status.idle": "2022-06-22T11:15:07.762655Z",
     "shell.execute_reply": "2022-06-22T11:15:07.761698Z"
    },
    "papermill": {
     "duration": 8.122875,
     "end_time": "2022-06-22T11:15:07.764733",
     "exception": false,
     "start_time": "2022-06-22T11:14:59.641858",
     "status": "completed"
    },
    "tags": []
   },
   "outputs": [
    {
     "data": {
      "text/plain": [
       "<AxesSubplot:xlabel='Product_Category_1', ylabel='Purchase'>"
      ]
     },
     "execution_count": 27,
     "metadata": {},
     "output_type": "execute_result"
    },
    {
     "data": {
      "image/png": "[encoded data removed]",
      "text/plain": [
       "<Figure size 1008x504 with 1 Axes>"
      ]
     },
     "metadata": {
      "needs_background": "light"
     },
     "output_type": "display_data"
    }
   ],
   "source": [
    "## puchase with respect to product category\n",
    "plt.figure(figsize=(14,7))\n",
    "sns.barplot(data=df, x='Product_Category_1', y ='Purchase', hue='Gender', palette=['red','blue'])"
   ]
  },
  {
   "cell_type": "markdown",
   "id": "8d451da2",
   "metadata": {
    "papermill": {
     "duration": 0.022781,
     "end_time": "2022-06-22T11:15:07.810334",
     "exception": false,
     "start_time": "2022-06-22T11:15:07.787553",
     "status": "completed"
    },
    "tags": []
   },
   "source": [
    "### Observation\n",
    "\n",
    "1. product category 1, 10th product has been puchchased most of the time by both male and female.\n",
    "2. product category 1, 19th product has been puchchased least by both male and female."
   ]
  },
  {
   "cell_type": "code",
   "execution_count": null,
   "id": "3b14ce95",
   "metadata": {
    "papermill": {
     "duration": 0.023012,
     "end_time": "2022-06-22T11:15:07.856424",
     "exception": false,
     "start_time": "2022-06-22T11:15:07.833412",
     "status": "completed"
    },
    "tags": []
   },
   "outputs": [],
   "source": []
  },
  {
   "cell_type": "code",
   "execution_count": 28,
   "id": "a4c3e031",
   "metadata": {
    "execution": {
     "iopub.execute_input": "2022-06-22T11:15:07.905681Z",
     "iopub.status.busy": "2022-06-22T11:15:07.905270Z",
     "iopub.status.idle": "2022-06-22T11:15:16.194791Z",
     "shell.execute_reply": "2022-06-22T11:15:16.194005Z"
    },
    "papermill": {
     "duration": 8.316393,
     "end_time": "2022-06-22T11:15:16.196929",
     "exception": false,
     "start_time": "2022-06-22T11:15:07.880536",
     "status": "completed"
    },
    "tags": []
   },
   "outputs": [
    {
     "data": {
      "text/plain": [
       "<AxesSubplot:xlabel='Product_Category_2', ylabel='Purchase'>"
      ]
     },
     "execution_count": 28,
     "metadata": {},
     "output_type": "execute_result"
    },
    {
     "data": {
      "image/png": "[encoded data removed]",
      "text/plain": [
       "<Figure size 1008x504 with 1 Axes>"
      ]
     },
     "metadata": {
      "needs_background": "light"
     },
     "output_type": "display_data"
    }
   ],
   "source": [
    "## puchase with respect to product category\n",
    "plt.figure(figsize=(14,7))\n",
    "sns.barplot(data=df, x='Product_Category_2', y ='Purchase', hue='Gender', palette=['red','blue'])"
   ]
  },
  {
   "cell_type": "markdown",
   "id": "94b616b0",
   "metadata": {
    "papermill": {
     "duration": 0.024254,
     "end_time": "2022-06-22T11:15:16.244700",
     "exception": false,
     "start_time": "2022-06-22T11:15:16.220446",
     "status": "completed"
    },
    "tags": []
   },
   "source": [
    "### Observation\n",
    "\n",
    "1. product category 2, 10th product has been puchchased most of the time by both male and female.\n",
    "2. product category 2, 7th, 9th, 12th and 14th product has been puchchased least by both male and female."
   ]
  },
  {
   "cell_type": "code",
   "execution_count": null,
   "id": "37b8e157",
   "metadata": {
    "papermill": {
     "duration": 0.022843,
     "end_time": "2022-06-22T11:15:16.290774",
     "exception": false,
     "start_time": "2022-06-22T11:15:16.267931",
     "status": "completed"
    },
    "tags": []
   },
   "outputs": [],
   "source": []
  },
  {
   "cell_type": "code",
   "execution_count": 29,
   "id": "4aa72e99",
   "metadata": {
    "execution": {
     "iopub.execute_input": "2022-06-22T11:15:16.339542Z",
     "iopub.status.busy": "2022-06-22T11:15:16.338861Z",
     "iopub.status.idle": "2022-06-22T11:15:25.693772Z",
     "shell.execute_reply": "2022-06-22T11:15:25.692864Z"
    },
    "papermill": {
     "duration": 9.381973,
     "end_time": "2022-06-22T11:15:25.695968",
     "exception": false,
     "start_time": "2022-06-22T11:15:16.313995",
     "status": "completed"
    },
    "tags": []
   },
   "outputs": [
    {
     "data": {
      "text/plain": [
       "<AxesSubplot:xlabel='Product_Category_3', ylabel='Purchase'>"
      ]
     },
     "execution_count": 29,
     "metadata": {},
     "output_type": "execute_result"
    },
    {
     "data": {
      "image/png": "[encoded data removed]",
      "text/plain": [
       "<Figure size 1008x504 with 1 Axes>"
      ]
     },
     "metadata": {
      "needs_background": "light"
     },
     "output_type": "display_data"
    }
   ],
   "source": [
    "## puchase with respect to product category\n",
    "plt.figure(figsize=(14,7))\n",
    "sns.barplot(data=df, x='Product_Category_3', y ='Purchase', hue='Gender', palette=['red','blue'])"
   ]
  },
  {
   "cell_type": "markdown",
   "id": "e83fa5e8",
   "metadata": {
    "papermill": {
     "duration": 0.023947,
     "end_time": "2022-06-22T11:15:25.743921",
     "exception": false,
     "start_time": "2022-06-22T11:15:25.719974",
     "status": "completed"
    },
    "tags": []
   },
   "source": [
    "### Observation\n",
    "\n",
    "1. product category 3, 3th product has been puchchased most of the time by both male and female have seen higer deviation for      purchasing this product.\n",
    "\n",
    "2. product category 3, 16th product has been puchchased least by both male and female."
   ]
  },
  {
   "cell_type": "code",
   "execution_count": null,
   "id": "81a321f1",
   "metadata": {
    "papermill": {
     "duration": 0.023582,
     "end_time": "2022-06-22T11:15:25.791453",
     "exception": false,
     "start_time": "2022-06-22T11:15:25.767871",
     "status": "completed"
    },
    "tags": []
   },
   "outputs": [],
   "source": []
  },
  {
   "cell_type": "code",
   "execution_count": 30,
   "id": "1bb6df41",
   "metadata": {
    "execution": {
     "iopub.execute_input": "2022-06-22T11:15:25.841341Z",
     "iopub.status.busy": "2022-06-22T11:15:25.840899Z",
     "iopub.status.idle": "2022-06-22T11:15:26.086501Z",
     "shell.execute_reply": "2022-06-22T11:15:26.085467Z"
    },
    "papermill": {
     "duration": 0.273633,
     "end_time": "2022-06-22T11:15:26.089168",
     "exception": false,
     "start_time": "2022-06-22T11:15:25.815535",
     "status": "completed"
    },
    "tags": []
   },
   "outputs": [],
   "source": [
    "# As the columns data has no use its good to drop  that column\n",
    "\n",
    "df.drop('User_ID',axis=1,inplace=True)\n",
    "df.drop('Product_ID', axis=1, inplace=True)"
   ]
  },
  {
   "cell_type": "code",
   "execution_count": 31,
   "id": "e962c46f",
   "metadata": {
    "execution": {
     "iopub.execute_input": "2022-06-22T11:15:26.143041Z",
     "iopub.status.busy": "2022-06-22T11:15:26.142261Z",
     "iopub.status.idle": "2022-06-22T11:15:26.159284Z",
     "shell.execute_reply": "2022-06-22T11:15:26.158320Z"
    },
    "papermill": {
     "duration": 0.047901,
     "end_time": "2022-06-22T11:15:26.161403",
     "exception": false,
     "start_time": "2022-06-22T11:15:26.113502",
     "status": "completed"
    },
    "tags": []
   },
   "outputs": [
    {
     "data": {
      "text/html": [
       "<div>\n",
       "<style scoped>\n",
       "    .dataframe tbody tr th:only-of-type {\n",
       "        vertical-align: middle;\n",
       "    }\n",
       "\n",
       "    .dataframe tbody tr th {\n",
       "        vertical-align: top;\n",
       "    }\n",
       "\n",
       "    .dataframe thead th {\n",
       "        text-align: right;\n",
       "    }\n",
       "</style>\n",
       "<table border=\"1\" class=\"dataframe\">\n",
       "  <thead>\n",
       "    <tr style=\"text-align: right;\">\n",
       "      <th></th>\n",
       "      <th>Gender</th>\n",
       "      <th>Age</th>\n",
       "      <th>Occupation</th>\n",
       "      <th>City_Category</th>\n",
       "      <th>Stay_In_Current_City_Years</th>\n",
       "      <th>Marital_Status</th>\n",
       "      <th>Product_Category_1</th>\n",
       "      <th>Product_Category_2</th>\n",
       "      <th>Product_Category_3</th>\n",
       "      <th>Purchase</th>\n",
       "    </tr>\n",
       "  </thead>\n",
       "  <tbody>\n",
       "    <tr>\n",
       "      <th>0</th>\n",
       "      <td>F</td>\n",
       "      <td>0-17</td>\n",
       "      <td>10</td>\n",
       "      <td>A</td>\n",
       "      <td>2</td>\n",
       "      <td>0</td>\n",
       "      <td>3</td>\n",
       "      <td>8.0</td>\n",
       "      <td>16.0</td>\n",
       "      <td>8370.0</td>\n",
       "    </tr>\n",
       "    <tr>\n",
       "      <th>1</th>\n",
       "      <td>F</td>\n",
       "      <td>0-17</td>\n",
       "      <td>10</td>\n",
       "      <td>A</td>\n",
       "      <td>2</td>\n",
       "      <td>0</td>\n",
       "      <td>1</td>\n",
       "      <td>6.0</td>\n",
       "      <td>14.0</td>\n",
       "      <td>15200.0</td>\n",
       "    </tr>\n",
       "    <tr>\n",
       "      <th>2</th>\n",
       "      <td>F</td>\n",
       "      <td>0-17</td>\n",
       "      <td>10</td>\n",
       "      <td>A</td>\n",
       "      <td>2</td>\n",
       "      <td>0</td>\n",
       "      <td>12</td>\n",
       "      <td>8.0</td>\n",
       "      <td>16.0</td>\n",
       "      <td>1422.0</td>\n",
       "    </tr>\n",
       "    <tr>\n",
       "      <th>3</th>\n",
       "      <td>F</td>\n",
       "      <td>0-17</td>\n",
       "      <td>10</td>\n",
       "      <td>A</td>\n",
       "      <td>2</td>\n",
       "      <td>0</td>\n",
       "      <td>12</td>\n",
       "      <td>14.0</td>\n",
       "      <td>16.0</td>\n",
       "      <td>1057.0</td>\n",
       "    </tr>\n",
       "    <tr>\n",
       "      <th>4</th>\n",
       "      <td>M</td>\n",
       "      <td>55+</td>\n",
       "      <td>16</td>\n",
       "      <td>C</td>\n",
       "      <td>4+</td>\n",
       "      <td>0</td>\n",
       "      <td>8</td>\n",
       "      <td>8.0</td>\n",
       "      <td>16.0</td>\n",
       "      <td>7969.0</td>\n",
       "    </tr>\n",
       "  </tbody>\n",
       "</table>\n",
       "</div>"
      ],
      "text/plain": [
       "  Gender   Age  Occupation City_Category Stay_In_Current_City_Years  \\\n",
       "0      F  0-17          10             A                          2   \n",
       "1      F  0-17          10             A                          2   \n",
       "2      F  0-17          10             A                          2   \n",
       "3      F  0-17          10             A                          2   \n",
       "4      M   55+          16             C                         4+   \n",
       "\n",
       "   Marital_Status  Product_Category_1  Product_Category_2  Product_Category_3  \\\n",
       "0               0                   3                 8.0                16.0   \n",
       "1               0                   1                 6.0                14.0   \n",
       "2               0                  12                 8.0                16.0   \n",
       "3               0                  12                14.0                16.0   \n",
       "4               0                   8                 8.0                16.0   \n",
       "\n",
       "   Purchase  \n",
       "0    8370.0  \n",
       "1   15200.0  \n",
       "2    1422.0  \n",
       "3    1057.0  \n",
       "4    7969.0  "
      ]
     },
     "execution_count": 31,
     "metadata": {},
     "output_type": "execute_result"
    }
   ],
   "source": [
    "df.head()"
   ]
  },
  {
   "cell_type": "code",
   "execution_count": null,
   "id": "8430c7bd",
   "metadata": {
    "papermill": {
     "duration": 0.024454,
     "end_time": "2022-06-22T11:15:26.210881",
     "exception": false,
     "start_time": "2022-06-22T11:15:26.186427",
     "status": "completed"
    },
    "tags": []
   },
   "outputs": [],
   "source": []
  },
  {
   "cell_type": "code",
   "execution_count": 32,
   "id": "ca6d43b0",
   "metadata": {
    "execution": {
     "iopub.execute_input": "2022-06-22T11:15:26.266631Z",
     "iopub.status.busy": "2022-06-22T11:15:26.266238Z",
     "iopub.status.idle": "2022-06-22T11:15:26.338983Z",
     "shell.execute_reply": "2022-06-22T11:15:26.337987Z"
    },
    "papermill": {
     "duration": 0.104802,
     "end_time": "2022-06-22T11:15:26.341233",
     "exception": false,
     "start_time": "2022-06-22T11:15:26.236431",
     "status": "completed"
    },
    "tags": []
   },
   "outputs": [
    {
     "data": {
      "text/html": [
       "<div>\n",
       "<style scoped>\n",
       "    .dataframe tbody tr th:only-of-type {\n",
       "        vertical-align: middle;\n",
       "    }\n",
       "\n",
       "    .dataframe tbody tr th {\n",
       "        vertical-align: top;\n",
       "    }\n",
       "\n",
       "    .dataframe thead th {\n",
       "        text-align: right;\n",
       "    }\n",
       "</style>\n",
       "<table border=\"1\" class=\"dataframe\">\n",
       "  <thead>\n",
       "    <tr style=\"text-align: right;\">\n",
       "      <th></th>\n",
       "      <th>Gender</th>\n",
       "      <th>Age</th>\n",
       "      <th>Occupation</th>\n",
       "      <th>City_Category</th>\n",
       "      <th>Stay_In_Current_City_Years</th>\n",
       "      <th>Marital_Status</th>\n",
       "      <th>Product_Category_1</th>\n",
       "      <th>Product_Category_2</th>\n",
       "      <th>Product_Category_3</th>\n",
       "      <th>Purchase</th>\n",
       "    </tr>\n",
       "  </thead>\n",
       "  <tbody>\n",
       "    <tr>\n",
       "      <th>0</th>\n",
       "      <td>0</td>\n",
       "      <td>0-17</td>\n",
       "      <td>10</td>\n",
       "      <td>A</td>\n",
       "      <td>2</td>\n",
       "      <td>0</td>\n",
       "      <td>3</td>\n",
       "      <td>8.0</td>\n",
       "      <td>16.0</td>\n",
       "      <td>8370.0</td>\n",
       "    </tr>\n",
       "    <tr>\n",
       "      <th>1</th>\n",
       "      <td>0</td>\n",
       "      <td>0-17</td>\n",
       "      <td>10</td>\n",
       "      <td>A</td>\n",
       "      <td>2</td>\n",
       "      <td>0</td>\n",
       "      <td>1</td>\n",
       "      <td>6.0</td>\n",
       "      <td>14.0</td>\n",
       "      <td>15200.0</td>\n",
       "    </tr>\n",
       "    <tr>\n",
       "      <th>2</th>\n",
       "      <td>0</td>\n",
       "      <td>0-17</td>\n",
       "      <td>10</td>\n",
       "      <td>A</td>\n",
       "      <td>2</td>\n",
       "      <td>0</td>\n",
       "      <td>12</td>\n",
       "      <td>8.0</td>\n",
       "      <td>16.0</td>\n",
       "      <td>1422.0</td>\n",
       "    </tr>\n",
       "    <tr>\n",
       "      <th>3</th>\n",
       "      <td>0</td>\n",
       "      <td>0-17</td>\n",
       "      <td>10</td>\n",
       "      <td>A</td>\n",
       "      <td>2</td>\n",
       "      <td>0</td>\n",
       "      <td>12</td>\n",
       "      <td>14.0</td>\n",
       "      <td>16.0</td>\n",
       "      <td>1057.0</td>\n",
       "    </tr>\n",
       "    <tr>\n",
       "      <th>4</th>\n",
       "      <td>1</td>\n",
       "      <td>55+</td>\n",
       "      <td>16</td>\n",
       "      <td>C</td>\n",
       "      <td>4+</td>\n",
       "      <td>0</td>\n",
       "      <td>8</td>\n",
       "      <td>8.0</td>\n",
       "      <td>16.0</td>\n",
       "      <td>7969.0</td>\n",
       "    </tr>\n",
       "  </tbody>\n",
       "</table>\n",
       "</div>"
      ],
      "text/plain": [
       "   Gender   Age  Occupation City_Category Stay_In_Current_City_Years  \\\n",
       "0       0  0-17          10             A                          2   \n",
       "1       0  0-17          10             A                          2   \n",
       "2       0  0-17          10             A                          2   \n",
       "3       0  0-17          10             A                          2   \n",
       "4       1   55+          16             C                         4+   \n",
       "\n",
       "   Marital_Status  Product_Category_1  Product_Category_2  Product_Category_3  \\\n",
       "0               0                   3                 8.0                16.0   \n",
       "1               0                   1                 6.0                14.0   \n",
       "2               0                  12                 8.0                16.0   \n",
       "3               0                  12                14.0                16.0   \n",
       "4               0                   8                 8.0                16.0   \n",
       "\n",
       "   Purchase  \n",
       "0    8370.0  \n",
       "1   15200.0  \n",
       "2    1422.0  \n",
       "3    1057.0  \n",
       "4    7969.0  "
      ]
     },
     "execution_count": 32,
     "metadata": {},
     "output_type": "execute_result"
    }
   ],
   "source": [
    "# Handeling categorical feature gender\n",
    "df['Gender'] = df['Gender'].map({'F':0,'M':1})\n",
    "df.head()"
   ]
  },
  {
   "cell_type": "code",
   "execution_count": null,
   "id": "2800ba54",
   "metadata": {
    "papermill": {
     "duration": 0.02814,
     "end_time": "2022-06-22T11:15:26.399469",
     "exception": false,
     "start_time": "2022-06-22T11:15:26.371329",
     "status": "completed"
    },
    "tags": []
   },
   "outputs": [],
   "source": []
  },
  {
   "cell_type": "code",
   "execution_count": 33,
   "id": "f24bf3e9",
   "metadata": {
    "execution": {
     "iopub.execute_input": "2022-06-22T11:15:26.457944Z",
     "iopub.status.busy": "2022-06-22T11:15:26.457195Z",
     "iopub.status.idle": "2022-06-22T11:15:26.522604Z",
     "shell.execute_reply": "2022-06-22T11:15:26.521798Z"
    },
    "papermill": {
     "duration": 0.09627,
     "end_time": "2022-06-22T11:15:26.524719",
     "exception": false,
     "start_time": "2022-06-22T11:15:26.428449",
     "status": "completed"
    },
    "tags": []
   },
   "outputs": [
    {
     "data": {
      "text/plain": [
       "array(['0-17', '55+', '26-35', '46-50', '51-55', '36-45', '18-25'],\n",
       "      dtype=object)"
      ]
     },
     "execution_count": 33,
     "metadata": {},
     "output_type": "execute_result"
    }
   ],
   "source": [
    "df['Age'].unique()"
   ]
  },
  {
   "cell_type": "code",
   "execution_count": 34,
   "id": "3e429fa6",
   "metadata": {
    "execution": {
     "iopub.execute_input": "2022-06-22T11:15:26.576375Z",
     "iopub.status.busy": "2022-06-22T11:15:26.575688Z",
     "iopub.status.idle": "2022-06-22T11:15:26.679093Z",
     "shell.execute_reply": "2022-06-22T11:15:26.678175Z"
    },
    "papermill": {
     "duration": 0.131573,
     "end_time": "2022-06-22T11:15:26.681189",
     "exception": false,
     "start_time": "2022-06-22T11:15:26.549616",
     "status": "completed"
    },
    "tags": []
   },
   "outputs": [
    {
     "data": {
      "text/html": [
       "<div>\n",
       "<style scoped>\n",
       "    .dataframe tbody tr th:only-of-type {\n",
       "        vertical-align: middle;\n",
       "    }\n",
       "\n",
       "    .dataframe tbody tr th {\n",
       "        vertical-align: top;\n",
       "    }\n",
       "\n",
       "    .dataframe thead th {\n",
       "        text-align: right;\n",
       "    }\n",
       "</style>\n",
       "<table border=\"1\" class=\"dataframe\">\n",
       "  <thead>\n",
       "    <tr style=\"text-align: right;\">\n",
       "      <th></th>\n",
       "      <th>Gender</th>\n",
       "      <th>Age</th>\n",
       "      <th>Occupation</th>\n",
       "      <th>City_Category</th>\n",
       "      <th>Stay_In_Current_City_Years</th>\n",
       "      <th>Marital_Status</th>\n",
       "      <th>Product_Category_1</th>\n",
       "      <th>Product_Category_2</th>\n",
       "      <th>Product_Category_3</th>\n",
       "      <th>Purchase</th>\n",
       "    </tr>\n",
       "  </thead>\n",
       "  <tbody>\n",
       "    <tr>\n",
       "      <th>0</th>\n",
       "      <td>0</td>\n",
       "      <td>1</td>\n",
       "      <td>10</td>\n",
       "      <td>A</td>\n",
       "      <td>2</td>\n",
       "      <td>0</td>\n",
       "      <td>3</td>\n",
       "      <td>8.0</td>\n",
       "      <td>16.0</td>\n",
       "      <td>8370.0</td>\n",
       "    </tr>\n",
       "    <tr>\n",
       "      <th>1</th>\n",
       "      <td>0</td>\n",
       "      <td>1</td>\n",
       "      <td>10</td>\n",
       "      <td>A</td>\n",
       "      <td>2</td>\n",
       "      <td>0</td>\n",
       "      <td>1</td>\n",
       "      <td>6.0</td>\n",
       "      <td>14.0</td>\n",
       "      <td>15200.0</td>\n",
       "    </tr>\n",
       "    <tr>\n",
       "      <th>2</th>\n",
       "      <td>0</td>\n",
       "      <td>1</td>\n",
       "      <td>10</td>\n",
       "      <td>A</td>\n",
       "      <td>2</td>\n",
       "      <td>0</td>\n",
       "      <td>12</td>\n",
       "      <td>8.0</td>\n",
       "      <td>16.0</td>\n",
       "      <td>1422.0</td>\n",
       "    </tr>\n",
       "    <tr>\n",
       "      <th>3</th>\n",
       "      <td>0</td>\n",
       "      <td>1</td>\n",
       "      <td>10</td>\n",
       "      <td>A</td>\n",
       "      <td>2</td>\n",
       "      <td>0</td>\n",
       "      <td>12</td>\n",
       "      <td>14.0</td>\n",
       "      <td>16.0</td>\n",
       "      <td>1057.0</td>\n",
       "    </tr>\n",
       "    <tr>\n",
       "      <th>4</th>\n",
       "      <td>1</td>\n",
       "      <td>7</td>\n",
       "      <td>16</td>\n",
       "      <td>C</td>\n",
       "      <td>4+</td>\n",
       "      <td>0</td>\n",
       "      <td>8</td>\n",
       "      <td>8.0</td>\n",
       "      <td>16.0</td>\n",
       "      <td>7969.0</td>\n",
       "    </tr>\n",
       "  </tbody>\n",
       "</table>\n",
       "</div>"
      ],
      "text/plain": [
       "   Gender  Age  Occupation City_Category Stay_In_Current_City_Years  \\\n",
       "0       0    1          10             A                          2   \n",
       "1       0    1          10             A                          2   \n",
       "2       0    1          10             A                          2   \n",
       "3       0    1          10             A                          2   \n",
       "4       1    7          16             C                         4+   \n",
       "\n",
       "   Marital_Status  Product_Category_1  Product_Category_2  Product_Category_3  \\\n",
       "0               0                   3                 8.0                16.0   \n",
       "1               0                   1                 6.0                14.0   \n",
       "2               0                  12                 8.0                16.0   \n",
       "3               0                  12                14.0                16.0   \n",
       "4               0                   8                 8.0                16.0   \n",
       "\n",
       "   Purchase  \n",
       "0    8370.0  \n",
       "1   15200.0  \n",
       "2    1422.0  \n",
       "3    1057.0  \n",
       "4    7969.0  "
      ]
     },
     "execution_count": 34,
     "metadata": {},
     "output_type": "execute_result"
    }
   ],
   "source": [
    "## encodinf age data category into numerical data\n",
    "\n",
    "df['Age'] = df['Age'].map({'0-17':1, '18-25':2, '26-35':3, '36-45':4, '46-50':5, '51-55':6, '55+':7})\n",
    "df.head()"
   ]
  },
  {
   "cell_type": "code",
   "execution_count": null,
   "id": "246f7779",
   "metadata": {
    "papermill": {
     "duration": 0.024573,
     "end_time": "2022-06-22T11:15:26.730430",
     "exception": false,
     "start_time": "2022-06-22T11:15:26.705857",
     "status": "completed"
    },
    "tags": []
   },
   "outputs": [],
   "source": []
  },
  {
   "cell_type": "code",
   "execution_count": 35,
   "id": "6f17aab2",
   "metadata": {
    "execution": {
     "iopub.execute_input": "2022-06-22T11:15:26.783036Z",
     "iopub.status.busy": "2022-06-22T11:15:26.782323Z",
     "iopub.status.idle": "2022-06-22T11:15:26.867730Z",
     "shell.execute_reply": "2022-06-22T11:15:26.866636Z"
    },
    "papermill": {
     "duration": 0.114407,
     "end_time": "2022-06-22T11:15:26.870473",
     "exception": false,
     "start_time": "2022-06-22T11:15:26.756066",
     "status": "completed"
    },
    "tags": []
   },
   "outputs": [
    {
     "data": {
      "text/html": [
       "<div>\n",
       "<style scoped>\n",
       "    .dataframe tbody tr th:only-of-type {\n",
       "        vertical-align: middle;\n",
       "    }\n",
       "\n",
       "    .dataframe tbody tr th {\n",
       "        vertical-align: top;\n",
       "    }\n",
       "\n",
       "    .dataframe thead th {\n",
       "        text-align: right;\n",
       "    }\n",
       "</style>\n",
       "<table border=\"1\" class=\"dataframe\">\n",
       "  <thead>\n",
       "    <tr style=\"text-align: right;\">\n",
       "      <th></th>\n",
       "      <th>B</th>\n",
       "      <th>C</th>\n",
       "    </tr>\n",
       "  </thead>\n",
       "  <tbody>\n",
       "    <tr>\n",
       "      <th>0</th>\n",
       "      <td>0</td>\n",
       "      <td>0</td>\n",
       "    </tr>\n",
       "    <tr>\n",
       "      <th>1</th>\n",
       "      <td>0</td>\n",
       "      <td>0</td>\n",
       "    </tr>\n",
       "    <tr>\n",
       "      <th>2</th>\n",
       "      <td>0</td>\n",
       "      <td>0</td>\n",
       "    </tr>\n",
       "    <tr>\n",
       "      <th>3</th>\n",
       "      <td>0</td>\n",
       "      <td>0</td>\n",
       "    </tr>\n",
       "    <tr>\n",
       "      <th>4</th>\n",
       "      <td>0</td>\n",
       "      <td>1</td>\n",
       "    </tr>\n",
       "  </tbody>\n",
       "</table>\n",
       "</div>"
      ],
      "text/plain": [
       "   B  C\n",
       "0  0  0\n",
       "1  0  0\n",
       "2  0  0\n",
       "3  0  0\n",
       "4  0  1"
      ]
     },
     "execution_count": 35,
     "metadata": {},
     "output_type": "execute_result"
    }
   ],
   "source": [
    "# handeling city category column\n",
    "df_city = pd.get_dummies(df['City_Category'], drop_first=True)\n",
    "df_city.head()"
   ]
  },
  {
   "cell_type": "code",
   "execution_count": null,
   "id": "f1959bbc",
   "metadata": {
    "papermill": {
     "duration": 0.027174,
     "end_time": "2022-06-22T11:15:26.926628",
     "exception": false,
     "start_time": "2022-06-22T11:15:26.899454",
     "status": "completed"
    },
    "tags": []
   },
   "outputs": [],
   "source": []
  },
  {
   "cell_type": "code",
   "execution_count": 36,
   "id": "76f9f857",
   "metadata": {
    "execution": {
     "iopub.execute_input": "2022-06-22T11:15:26.979597Z",
     "iopub.status.busy": "2022-06-22T11:15:26.979213Z",
     "iopub.status.idle": "2022-06-22T11:15:27.032099Z",
     "shell.execute_reply": "2022-06-22T11:15:27.031089Z"
    },
    "papermill": {
     "duration": 0.081397,
     "end_time": "2022-06-22T11:15:27.034216",
     "exception": false,
     "start_time": "2022-06-22T11:15:26.952819",
     "status": "completed"
    },
    "tags": []
   },
   "outputs": [
    {
     "data": {
      "text/html": [
       "<div>\n",
       "<style scoped>\n",
       "    .dataframe tbody tr th:only-of-type {\n",
       "        vertical-align: middle;\n",
       "    }\n",
       "\n",
       "    .dataframe tbody tr th {\n",
       "        vertical-align: top;\n",
       "    }\n",
       "\n",
       "    .dataframe thead th {\n",
       "        text-align: right;\n",
       "    }\n",
       "</style>\n",
       "<table border=\"1\" class=\"dataframe\">\n",
       "  <thead>\n",
       "    <tr style=\"text-align: right;\">\n",
       "      <th></th>\n",
       "      <th>Gender</th>\n",
       "      <th>Age</th>\n",
       "      <th>Occupation</th>\n",
       "      <th>City_Category</th>\n",
       "      <th>Stay_In_Current_City_Years</th>\n",
       "      <th>Marital_Status</th>\n",
       "      <th>Product_Category_1</th>\n",
       "      <th>Product_Category_2</th>\n",
       "      <th>Product_Category_3</th>\n",
       "      <th>Purchase</th>\n",
       "      <th>B</th>\n",
       "      <th>C</th>\n",
       "    </tr>\n",
       "  </thead>\n",
       "  <tbody>\n",
       "    <tr>\n",
       "      <th>0</th>\n",
       "      <td>0</td>\n",
       "      <td>1</td>\n",
       "      <td>10</td>\n",
       "      <td>A</td>\n",
       "      <td>2</td>\n",
       "      <td>0</td>\n",
       "      <td>3</td>\n",
       "      <td>8.0</td>\n",
       "      <td>16.0</td>\n",
       "      <td>8370.0</td>\n",
       "      <td>0</td>\n",
       "      <td>0</td>\n",
       "    </tr>\n",
       "    <tr>\n",
       "      <th>1</th>\n",
       "      <td>0</td>\n",
       "      <td>1</td>\n",
       "      <td>10</td>\n",
       "      <td>A</td>\n",
       "      <td>2</td>\n",
       "      <td>0</td>\n",
       "      <td>1</td>\n",
       "      <td>6.0</td>\n",
       "      <td>14.0</td>\n",
       "      <td>15200.0</td>\n",
       "      <td>0</td>\n",
       "      <td>0</td>\n",
       "    </tr>\n",
       "    <tr>\n",
       "      <th>2</th>\n",
       "      <td>0</td>\n",
       "      <td>1</td>\n",
       "      <td>10</td>\n",
       "      <td>A</td>\n",
       "      <td>2</td>\n",
       "      <td>0</td>\n",
       "      <td>12</td>\n",
       "      <td>8.0</td>\n",
       "      <td>16.0</td>\n",
       "      <td>1422.0</td>\n",
       "      <td>0</td>\n",
       "      <td>0</td>\n",
       "    </tr>\n",
       "    <tr>\n",
       "      <th>3</th>\n",
       "      <td>0</td>\n",
       "      <td>1</td>\n",
       "      <td>10</td>\n",
       "      <td>A</td>\n",
       "      <td>2</td>\n",
       "      <td>0</td>\n",
       "      <td>12</td>\n",
       "      <td>14.0</td>\n",
       "      <td>16.0</td>\n",
       "      <td>1057.0</td>\n",
       "      <td>0</td>\n",
       "      <td>0</td>\n",
       "    </tr>\n",
       "    <tr>\n",
       "      <th>4</th>\n",
       "      <td>1</td>\n",
       "      <td>7</td>\n",
       "      <td>16</td>\n",
       "      <td>C</td>\n",
       "      <td>4+</td>\n",
       "      <td>0</td>\n",
       "      <td>8</td>\n",
       "      <td>8.0</td>\n",
       "      <td>16.0</td>\n",
       "      <td>7969.0</td>\n",
       "      <td>0</td>\n",
       "      <td>1</td>\n",
       "    </tr>\n",
       "  </tbody>\n",
       "</table>\n",
       "</div>"
      ],
      "text/plain": [
       "   Gender  Age  Occupation City_Category Stay_In_Current_City_Years  \\\n",
       "0       0    1          10             A                          2   \n",
       "1       0    1          10             A                          2   \n",
       "2       0    1          10             A                          2   \n",
       "3       0    1          10             A                          2   \n",
       "4       1    7          16             C                         4+   \n",
       "\n",
       "   Marital_Status  Product_Category_1  Product_Category_2  Product_Category_3  \\\n",
       "0               0                   3                 8.0                16.0   \n",
       "1               0                   1                 6.0                14.0   \n",
       "2               0                  12                 8.0                16.0   \n",
       "3               0                  12                14.0                16.0   \n",
       "4               0                   8                 8.0                16.0   \n",
       "\n",
       "   Purchase  B  C  \n",
       "0    8370.0  0  0  \n",
       "1   15200.0  0  0  \n",
       "2    1422.0  0  0  \n",
       "3    1057.0  0  0  \n",
       "4    7969.0  0  1  "
      ]
     },
     "execution_count": 36,
     "metadata": {},
     "output_type": "execute_result"
    }
   ],
   "source": [
    "df = pd.concat([df,df_city], axis=1)\n",
    "df.head()"
   ]
  },
  {
   "cell_type": "code",
   "execution_count": 37,
   "id": "30b88f8d",
   "metadata": {
    "execution": {
     "iopub.execute_input": "2022-06-22T11:15:27.088699Z",
     "iopub.status.busy": "2022-06-22T11:15:27.088052Z",
     "iopub.status.idle": "2022-06-22T11:15:27.150003Z",
     "shell.execute_reply": "2022-06-22T11:15:27.149284Z"
    },
    "papermill": {
     "duration": 0.092019,
     "end_time": "2022-06-22T11:15:27.152229",
     "exception": false,
     "start_time": "2022-06-22T11:15:27.060210",
     "status": "completed"
    },
    "tags": []
   },
   "outputs": [],
   "source": [
    "# As we no longer require this category \n",
    "df.drop('City_Category', inplace=True, axis=1)"
   ]
  },
  {
   "cell_type": "code",
   "execution_count": null,
   "id": "251d6ec9",
   "metadata": {
    "papermill": {
     "duration": 0.025727,
     "end_time": "2022-06-22T11:15:27.203948",
     "exception": false,
     "start_time": "2022-06-22T11:15:27.178221",
     "status": "completed"
    },
    "tags": []
   },
   "outputs": [],
   "source": []
  },
  {
   "cell_type": "code",
   "execution_count": 38,
   "id": "27fccdf8",
   "metadata": {
    "execution": {
     "iopub.execute_input": "2022-06-22T11:15:27.255985Z",
     "iopub.status.busy": "2022-06-22T11:15:27.255331Z",
     "iopub.status.idle": "2022-06-22T11:15:27.314206Z",
     "shell.execute_reply": "2022-06-22T11:15:27.313227Z"
    },
    "papermill": {
     "duration": 0.087144,
     "end_time": "2022-06-22T11:15:27.316295",
     "exception": false,
     "start_time": "2022-06-22T11:15:27.229151",
     "status": "completed"
    },
    "tags": []
   },
   "outputs": [
    {
     "data": {
      "text/plain": [
       "array(['2', '4+', '3', '1', '0'], dtype=object)"
      ]
     },
     "execution_count": 38,
     "metadata": {},
     "output_type": "execute_result"
    }
   ],
   "source": [
    "#exploring Stay_In_Current_City_Years column\n",
    "df['Stay_In_Current_City_Years'].unique()"
   ]
  },
  {
   "cell_type": "code",
   "execution_count": 39,
   "id": "aff416e2",
   "metadata": {
    "execution": {
     "iopub.execute_input": "2022-06-22T11:15:27.370006Z",
     "iopub.status.busy": "2022-06-22T11:15:27.369401Z",
     "iopub.status.idle": "2022-06-22T11:15:27.839562Z",
     "shell.execute_reply": "2022-06-22T11:15:27.838556Z"
    },
    "papermill": {
     "duration": 0.499489,
     "end_time": "2022-06-22T11:15:27.842183",
     "exception": false,
     "start_time": "2022-06-22T11:15:27.342694",
     "status": "completed"
    },
    "tags": []
   },
   "outputs": [
    {
     "name": "stderr",
     "output_type": "stream",
     "text": [
      "/opt/conda/lib/python3.7/site-packages/ipykernel_launcher.py:1: FutureWarning: The default value of regex will change from True to False in a future version. In addition, single character regular expressions will *not* be treated as literal strings when regex=True.\n",
      "  \"\"\"Entry point for launching an IPython kernel.\n"
     ]
    }
   ],
   "source": [
    "df['Stay_In_Current_City_Years'] = df['Stay_In_Current_City_Years'].str.replace('+','')"
   ]
  },
  {
   "cell_type": "code",
   "execution_count": 40,
   "id": "c0a3775a",
   "metadata": {
    "execution": {
     "iopub.execute_input": "2022-06-22T11:15:27.895586Z",
     "iopub.status.busy": "2022-06-22T11:15:27.895164Z",
     "iopub.status.idle": "2022-06-22T11:15:28.005248Z",
     "shell.execute_reply": "2022-06-22T11:15:28.004257Z"
    },
    "papermill": {
     "duration": 0.140381,
     "end_time": "2022-06-22T11:15:28.008321",
     "exception": false,
     "start_time": "2022-06-22T11:15:27.867940",
     "status": "completed"
    },
    "tags": []
   },
   "outputs": [
    {
     "name": "stdout",
     "output_type": "stream",
     "text": [
      "<class 'pandas.core.frame.DataFrame'>\n",
      "Int64Index: 783667 entries, 0 to 233598\n",
      "Data columns (total 11 columns):\n",
      " #   Column                      Non-Null Count   Dtype  \n",
      "---  ------                      --------------   -----  \n",
      " 0   Gender                      783667 non-null  int64  \n",
      " 1   Age                         783667 non-null  int64  \n",
      " 2   Occupation                  783667 non-null  int64  \n",
      " 3   Stay_In_Current_City_Years  783667 non-null  object \n",
      " 4   Marital_Status              783667 non-null  int64  \n",
      " 5   Product_Category_1          783667 non-null  int64  \n",
      " 6   Product_Category_2          783667 non-null  float64\n",
      " 7   Product_Category_3          783667 non-null  float64\n",
      " 8   Purchase                    550068 non-null  float64\n",
      " 9   B                           783667 non-null  uint8  \n",
      " 10  C                           783667 non-null  uint8  \n",
      "dtypes: float64(3), int64(5), object(1), uint8(2)\n",
      "memory usage: 77.4+ MB\n"
     ]
    }
   ],
   "source": [
    "df.info()"
   ]
  },
  {
   "cell_type": "code",
   "execution_count": 41,
   "id": "4d94ac3e",
   "metadata": {
    "execution": {
     "iopub.execute_input": "2022-06-22T11:15:28.062759Z",
     "iopub.status.busy": "2022-06-22T11:15:28.062134Z",
     "iopub.status.idle": "2022-06-22T11:15:28.204645Z",
     "shell.execute_reply": "2022-06-22T11:15:28.203673Z"
    },
    "papermill": {
     "duration": 0.172548,
     "end_time": "2022-06-22T11:15:28.207616",
     "exception": false,
     "start_time": "2022-06-22T11:15:28.035068",
     "status": "completed"
    },
    "tags": []
   },
   "outputs": [
    {
     "name": "stdout",
     "output_type": "stream",
     "text": [
      "<class 'pandas.core.frame.DataFrame'>\n",
      "Int64Index: 783667 entries, 0 to 233598\n",
      "Data columns (total 11 columns):\n",
      " #   Column                      Non-Null Count   Dtype  \n",
      "---  ------                      --------------   -----  \n",
      " 0   Gender                      783667 non-null  int64  \n",
      " 1   Age                         783667 non-null  int64  \n",
      " 2   Occupation                  783667 non-null  int64  \n",
      " 3   Stay_In_Current_City_Years  783667 non-null  int64  \n",
      " 4   Marital_Status              783667 non-null  int64  \n",
      " 5   Product_Category_1          783667 non-null  int64  \n",
      " 6   Product_Category_2          783667 non-null  float64\n",
      " 7   Product_Category_3          783667 non-null  float64\n",
      " 8   Purchase                    550068 non-null  float64\n",
      " 9   B                           783667 non-null  uint8  \n",
      " 10  C                           783667 non-null  uint8  \n",
      "dtypes: float64(3), int64(6), uint8(2)\n",
      "memory usage: 77.4 MB\n"
     ]
    }
   ],
   "source": [
    "# Stay_In_Current_City_Years is in object format so we have to convert it into integer type\n",
    "df['Stay_In_Current_City_Years'] = df['Stay_In_Current_City_Years'].astype(int)\n",
    "df.info()"
   ]
  },
  {
   "cell_type": "code",
   "execution_count": 42,
   "id": "d434e7b6",
   "metadata": {
    "execution": {
     "iopub.execute_input": "2022-06-22T11:15:28.260708Z",
     "iopub.status.busy": "2022-06-22T11:15:28.260354Z",
     "iopub.status.idle": "2022-06-22T11:15:28.270357Z",
     "shell.execute_reply": "2022-06-22T11:15:28.269467Z"
    },
    "papermill": {
     "duration": 0.038553,
     "end_time": "2022-06-22T11:15:28.272505",
     "exception": false,
     "start_time": "2022-06-22T11:15:28.233952",
     "status": "completed"
    },
    "tags": []
   },
   "outputs": [],
   "source": [
    "df['B'] = df['B'].astype(int)\n",
    "df['C'] = df['C'].astype(int)"
   ]
  },
  {
   "cell_type": "code",
   "execution_count": 43,
   "id": "10afcb0e",
   "metadata": {
    "execution": {
     "iopub.execute_input": "2022-06-22T11:15:28.324920Z",
     "iopub.status.busy": "2022-06-22T11:15:28.324507Z",
     "iopub.status.idle": "2022-06-22T11:15:28.351839Z",
     "shell.execute_reply": "2022-06-22T11:15:28.350312Z"
    },
    "papermill": {
     "duration": 0.05607,
     "end_time": "2022-06-22T11:15:28.354011",
     "exception": false,
     "start_time": "2022-06-22T11:15:28.297941",
     "status": "completed"
    },
    "tags": []
   },
   "outputs": [
    {
     "name": "stdout",
     "output_type": "stream",
     "text": [
      "<class 'pandas.core.frame.DataFrame'>\n",
      "Int64Index: 783667 entries, 0 to 233598\n",
      "Data columns (total 11 columns):\n",
      " #   Column                      Non-Null Count   Dtype  \n",
      "---  ------                      --------------   -----  \n",
      " 0   Gender                      783667 non-null  int64  \n",
      " 1   Age                         783667 non-null  int64  \n",
      " 2   Occupation                  783667 non-null  int64  \n",
      " 3   Stay_In_Current_City_Years  783667 non-null  int64  \n",
      " 4   Marital_Status              783667 non-null  int64  \n",
      " 5   Product_Category_1          783667 non-null  int64  \n",
      " 6   Product_Category_2          783667 non-null  float64\n",
      " 7   Product_Category_3          783667 non-null  float64\n",
      " 8   Purchase                    550068 non-null  float64\n",
      " 9   B                           783667 non-null  int64  \n",
      " 10  C                           783667 non-null  int64  \n",
      "dtypes: float64(3), int64(8)\n",
      "memory usage: 87.9 MB\n"
     ]
    }
   ],
   "source": [
    "df.info()"
   ]
  },
  {
   "cell_type": "code",
   "execution_count": null,
   "id": "646bb37d",
   "metadata": {
    "papermill": {
     "duration": 0.025245,
     "end_time": "2022-06-22T11:15:28.404790",
     "exception": false,
     "start_time": "2022-06-22T11:15:28.379545",
     "status": "completed"
    },
    "tags": []
   },
   "outputs": [],
   "source": []
  },
  {
   "cell_type": "markdown",
   "id": "13bc0c38",
   "metadata": {
    "papermill": {
     "duration": 0.02516,
     "end_time": "2022-06-22T11:15:28.455503",
     "exception": false,
     "start_time": "2022-06-22T11:15:28.430343",
     "status": "completed"
    },
    "tags": []
   },
   "source": [
    "## Feature Scaling"
   ]
  },
  {
   "cell_type": "code",
   "execution_count": 44,
   "id": "bd8d5ad2",
   "metadata": {
    "execution": {
     "iopub.execute_input": "2022-06-22T11:15:28.507996Z",
     "iopub.status.busy": "2022-06-22T11:15:28.507345Z",
     "iopub.status.idle": "2022-06-22T11:15:28.570440Z",
     "shell.execute_reply": "2022-06-22T11:15:28.569428Z"
    },
    "papermill": {
     "duration": 0.091968,
     "end_time": "2022-06-22T11:15:28.572830",
     "exception": false,
     "start_time": "2022-06-22T11:15:28.480862",
     "status": "completed"
    },
    "tags": []
   },
   "outputs": [],
   "source": [
    "df_test = df[df['Purchase'].isnull()]"
   ]
  },
  {
   "cell_type": "code",
   "execution_count": 45,
   "id": "1bded8f4",
   "metadata": {
    "execution": {
     "iopub.execute_input": "2022-06-22T11:15:28.625989Z",
     "iopub.status.busy": "2022-06-22T11:15:28.625173Z",
     "iopub.status.idle": "2022-06-22T11:15:28.650984Z",
     "shell.execute_reply": "2022-06-22T11:15:28.650104Z"
    },
    "papermill": {
     "duration": 0.054876,
     "end_time": "2022-06-22T11:15:28.653270",
     "exception": false,
     "start_time": "2022-06-22T11:15:28.598394",
     "status": "completed"
    },
    "tags": []
   },
   "outputs": [],
   "source": [
    "df_train = df[df['Purchase'].notnull()]"
   ]
  },
  {
   "cell_type": "code",
   "execution_count": 46,
   "id": "36944c91",
   "metadata": {
    "execution": {
     "iopub.execute_input": "2022-06-22T11:15:28.706570Z",
     "iopub.status.busy": "2022-06-22T11:15:28.706002Z",
     "iopub.status.idle": "2022-06-22T11:15:28.727489Z",
     "shell.execute_reply": "2022-06-22T11:15:28.726516Z"
    },
    "papermill": {
     "duration": 0.050716,
     "end_time": "2022-06-22T11:15:28.729723",
     "exception": false,
     "start_time": "2022-06-22T11:15:28.679007",
     "status": "completed"
    },
    "tags": []
   },
   "outputs": [],
   "source": [
    "X = df_train.drop('Purchase', axis=1)"
   ]
  },
  {
   "cell_type": "code",
   "execution_count": 47,
   "id": "de8edc84",
   "metadata": {
    "execution": {
     "iopub.execute_input": "2022-06-22T11:15:28.783434Z",
     "iopub.status.busy": "2022-06-22T11:15:28.782872Z",
     "iopub.status.idle": "2022-06-22T11:15:28.786824Z",
     "shell.execute_reply": "2022-06-22T11:15:28.786166Z"
    },
    "papermill": {
     "duration": 0.0331,
     "end_time": "2022-06-22T11:15:28.788717",
     "exception": false,
     "start_time": "2022-06-22T11:15:28.755617",
     "status": "completed"
    },
    "tags": []
   },
   "outputs": [],
   "source": [
    "y = df_train['Purchase']"
   ]
  },
  {
   "cell_type": "code",
   "execution_count": null,
   "id": "38f8d3a9",
   "metadata": {
    "papermill": {
     "duration": 0.025455,
     "end_time": "2022-06-22T11:15:28.839753",
     "exception": false,
     "start_time": "2022-06-22T11:15:28.814298",
     "status": "completed"
    },
    "tags": []
   },
   "outputs": [],
   "source": []
  },
  {
   "cell_type": "code",
   "execution_count": 48,
   "id": "590e7cc7",
   "metadata": {
    "execution": {
     "iopub.execute_input": "2022-06-22T11:15:28.892987Z",
     "iopub.status.busy": "2022-06-22T11:15:28.892442Z",
     "iopub.status.idle": "2022-06-22T11:15:29.124598Z",
     "shell.execute_reply": "2022-06-22T11:15:29.123548Z"
    },
    "papermill": {
     "duration": 0.261469,
     "end_time": "2022-06-22T11:15:29.126920",
     "exception": false,
     "start_time": "2022-06-22T11:15:28.865451",
     "status": "completed"
    },
    "tags": []
   },
   "outputs": [],
   "source": [
    "from sklearn.model_selection import train_test_split\n",
    "X_train, X_test, y_train, y_test = train_test_split(X, y, test_size=0.33, random_state=42)"
   ]
  },
  {
   "cell_type": "code",
   "execution_count": 49,
   "id": "226e9069",
   "metadata": {
    "execution": {
     "iopub.execute_input": "2022-06-22T11:15:29.180891Z",
     "iopub.status.busy": "2022-06-22T11:15:29.180488Z",
     "iopub.status.idle": "2022-06-22T11:15:29.272227Z",
     "shell.execute_reply": "2022-06-22T11:15:29.271444Z"
    },
    "papermill": {
     "duration": 0.121004,
     "end_time": "2022-06-22T11:15:29.274479",
     "exception": false,
     "start_time": "2022-06-22T11:15:29.153475",
     "status": "completed"
    },
    "tags": []
   },
   "outputs": [],
   "source": [
    "from sklearn.preprocessing import StandardScaler\n",
    "sc = StandardScaler()\n",
    "X_train = sc.fit_transform(X_train)\n",
    "X_test  = sc.transform(X_test)"
   ]
  },
  {
   "cell_type": "code",
   "execution_count": null,
   "id": "e333ee14",
   "metadata": {
    "papermill": {
     "duration": 0.025911,
     "end_time": "2022-06-22T11:15:29.327550",
     "exception": false,
     "start_time": "2022-06-22T11:15:29.301639",
     "status": "completed"
    },
    "tags": []
   },
   "outputs": [],
   "source": []
  },
  {
   "cell_type": "code",
   "execution_count": null,
   "id": "50f62ab6",
   "metadata": {
    "papermill": {
     "duration": 0.025383,
     "end_time": "2022-06-22T11:15:29.378987",
     "exception": false,
     "start_time": "2022-06-22T11:15:29.353604",
     "status": "completed"
    },
    "tags": []
   },
   "outputs": [],
   "source": []
  }
 ],
 "metadata": {
  "kernelspec": {
   "display_name": "Python 3",
   "language": "python",
   "name": "python3"
  },
  "language_info": {
   "codemirror_mode": {
    "name": "ipython",
    "version": 3
   },
   "file_extension": ".py",
   "mimetype": "text/x-python",
   "name": "python",
   "nbconvert_exporter": "python",
   "pygments_lexer": "ipython3",
   "version": "3.7.12"
  },
  "papermill": {
   "default_parameters": {},
   "duration": 71.85273,
   "end_time": "2022-06-22T11:15:30.225567",
   "environment_variables": {},
   "exception": null,
   "input_path": "__notebook__.ipynb",
   "output_path": "__notebook__.ipynb",
   "parameters": {},
   "start_time": "2022-06-22T11:14:18.372837",
   "version": "2.3.4"
  }
 },
 "nbformat": 4,
 "nbformat_minor": 5
}
